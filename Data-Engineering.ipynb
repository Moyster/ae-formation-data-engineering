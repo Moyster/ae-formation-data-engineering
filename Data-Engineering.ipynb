{
 "cells": [
  {
   "cell_type": "code",
   "execution_count": null,
   "id": "f2bd1ae3",
   "metadata": {
    "vscode": {
     "languageId": "sql"
    }
   },
   "outputs": [],
   "source": [
    "import urllib.request\n",
    "import os\n",
    "import sqlite3\n",
    "\n",
    "# Télécharger la base Northwind SQLite si elle n'existe pas déjà\n",
    "url = \"https://github.com/jpwhite3/northwind-SQLite3/raw/master/Northwind_small.sqlite\"\n",
    "db_path = \"northwind.sqlite\"\n",
    "if not os.path.exists(db_path):\n",
    "    urllib.request.urlretrieve(url, db_path)\n",
    "\n",
    "# Connexion à la base\n",
    "conn = sqlite3.connect(db_path)\n",
    "cursor = conn.cursor()\n",
    "\n",
    "import sqlite3\n",
    "import pandas as pd\n",
    "\n",
    "# Connexion à une base SQLite en mémoire (ou sur disque si besoin)\n",
    "conn = sqlite3.connect('manufacturing.db')\n",
    "cursor = conn.cursor()\n",
    "\n",
    "# Création des tables : Produits, Commandes, Clients\n",
    "cursor.execute('''\n",
    "CREATE TABLE IF NOT EXISTS Produits (\n",
    "    id INTEGER PRIMARY KEY,\n",
    "    nom TEXT,\n",
    "    prix REAL\n",
    ")\n",
    "''')\n",
    "cursor.execute('''\n",
    "CREATE TABLE IF NOT EXISTS Clients (\n",
    "    id INTEGER PRIMARY KEY,\n",
    "    nom TEXT,\n",
    "    ville TEXT\n",
    ")\n",
    "''')\n",
    "cursor.execute('''\n",
    "CREATE TABLE IF NOT EXISTS Commandes (\n",
    "    id INTEGER PRIMARY KEY,\n",
    "    client_id INTEGER,\n",
    "    produit_id INTEGER,\n",
    "    quantite INTEGER,\n",
    "    date TEXT,\n",
    "    FOREIGN KEY(client_id) REFERENCES Clients(id),\n",
    "    FOREIGN KEY(produit_id) REFERENCES Produits(id)\n",
    ")\n",
    "''')\n",
    "conn.commit()\n",
    "# Insertion de quelques données d’exemple\n",
    "produits = [\n",
    "    (1, 'Vis', 0.10),\n",
    "    (2, 'Boulon', 0.15),\n",
    "    (3, 'Plaque', 2.50)\n",
    "]\n",
    "clients = [\n",
    "    (1, 'Société Alpha', 'Paris'),\n",
    "    (2, 'Entreprise Beta', 'Lyon'),\n",
    "    (3, 'Client Gamma', 'Marseille')\n",
    "]\n",
    "commandes = [\n",
    "    (1, 1, 2, 100, '2025-06-01'),\n",
    "    (2, 2, 1, 200, '2025-06-02'),\n",
    "    (3, 3, 3, 10, '2025-06-03')\n",
    "]\n",
    "cursor.executemany('INSERT OR IGNORE INTO Produits VALUES (?, ?, ?)', produits)\n",
    "cursor.executemany('INSERT OR IGNORE INTO Clients VALUES (?, ?, ?)', clients)\n",
    "cursor.executemany('INSERT OR IGNORE INTO Commandes VALUES (?, ?, ?, ?, ?)', commandes)\n",
    "conn.commit()\n",
    "\n",
    "print('Base de données initialisée avec succès.')"
   ]
  },
  {
   "cell_type": "markdown",
   "id": "6ad22e27",
   "metadata": {},
   "source": [
    "# Concepts de base de l’ingénierie des données avec SQL\n",
    "\n",
    "Dans cette section, vous allez découvrir les opérations fondamentales sur une base de données relationnelle :\n",
    "\n",
    "- **SELECT** : extraire des données d’une ou plusieurs tables\n",
    "- **UPDATE** : modifier des données existantes\n",
    "- **Jointures (JOIN)** : combiner des données provenant de plusieurs tables\n",
    "- **Renommer des colonnes** dans les résultats\n",
    "\n",
    "Nous utiliserons la base Northwind, un exemple classique de base de données de gestion commerciale (clients, commandes, produits, etc.).\n",
    "\n",
    "Vous pourrez ainsi vous entraîner à écrire et exécuter des requêtes SQL sur un cas réel."
   ]
  }
 ],
 "metadata": {
  "kernelspec": {
   "display_name": "Python 3",
   "language": "python",
   "name": "python3"
  },
  "language_info": {
   "codemirror_mode": {
    "name": "ipython",
    "version": 3
   },
   "file_extension": ".py",
   "mimetype": "text/x-python",
   "name": "python",
   "nbconvert_exporter": "python",
   "pygments_lexer": "ipython3",
   "version": "3.12.1"
  }
 },
 "nbformat": 4,
 "nbformat_minor": 5
}
