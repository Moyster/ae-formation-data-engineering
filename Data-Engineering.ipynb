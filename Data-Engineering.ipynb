{
 "cells": [
  {
   "cell_type": "markdown",
   "id": "893459ec",
   "metadata": {},
   "source": [
    "# Introduction to Data Engineering: Bridging the gap between raw data and insights\n",
    "\n",
    "What we'll cover in this tutorial\n",
    "\n",
    "In this tutorial, we'll be using SQLite, a simple and easy-to-use database, to explore the fundamentals of data engineering and data preprocessing. We'll cover the following topics:\n",
    "+ Introduction to SQL: We'll learn the basics of SQL (Structured Query Language), the standard language for interacting with databases.\n",
    "+ Data Loading: We'll load the transformed data into a new table or file for further analysis.\n",
    "+ Data Extraction: We'll use SQL to extract data from our SQLite database.\n",
    "+ Data Transformation: We'll use SQL to clean, transform, and prepare the data for analysis. This will include handling missing values, inconsistent formatting, and duplicates.\n"
   ]
  },
  {
   "cell_type": "markdown",
   "id": "c92e3619",
   "metadata": {},
   "source": [
    "### Understanding SQL and Relational Databases\n",
    "\n",
    "Relational databases organize data into tables, which you can visualize as spreadsheets with rows and columns. Each table represents a specific type of entity or concept – imagine tables for \"Customers,\" \"Products,\" or \"Orders.\" \n",
    "To query these databases, we are using **SQL**, which is the standard language for interacting with relational databases. \n",
    "\n",
    "Rows (or Records): Each row in a table represents a single instance of that entity. For example, in the diagram below, in the \"Order\" table, each row would represent one specific order. We often refer to these as records.\n",
    "Columns (Attributes): Each column in a table represents a characteristic or attribute of that entity. In the \"Order\" table, columns might include \"UnitPrice,\" \"Quantity,\" and \"Discount.\" Each column has a specific data type (e.g., text, number, date).\n",
    "The power of relational databases lies in their ability to represent relationships between different entities. These relationships are created using keys:\n",
    "\n",
    "+ Primary Key: A unique identifier for each record within a table. For example, \"CustomerID\" in the \"Customers\" table would likely be a primary key, ensuring that each customer has a unique identifier.\n",
    "+ Foreign Key: A column in one table that refers to the primary key of another table. This establishes a link between the two tables. For example, an \"Orders\" table might have a \"CustomerID\" column that is a foreign key referencing the \"CustomerID\" (primary key) in the \"Customers\" table. This way, you know which customer placed each order.\n",
    "\n",
    "Tables are linked together through these keys, allowing you to perform complex queries that combine data from multiple tables. They can be linked using different types of relationships, such as one-to-one, one-to-many, or many-to-many.\n",
    "\n",
    "Below is a database schema diagram that illustrates these concepts:\n"
   ]
  },
  {
   "cell_type": "markdown",
   "id": "daca02fc",
   "metadata": {},
   "source": [
    "![Northwind Database Schema](./images/db-schema-northwind.svg)"
   ]
  },
  {
   "cell_type": "markdown",
   "id": "c2d58d2c",
   "metadata": {},
   "source": [
    "\n",
    "---\n",
    "\n",
    "#  We need to populate our database with some data !\n",
    "\n",
    "In this tutorial, we will be using the Northwind database, a sample database that contains data about a fictional company that imports and exports specialty foods. It includes tables for customers, orders, products, and more.\n",
    "The schema diagram above shows the relationships between the tables in the Northwind database.\n",
    "\n",
    "We've created for you a small script that will create the Northwind database and populate it with some sample data. To make things easy, we use SQLite, a lightweight database that is easy to set up and use, and offers a simple way to work with SQL databases without needing a separate server.\n",
    "In a real-world scenario, you would typically connect to a database server (like PostgreSQL, MySQL, Snowflake, etc...) and run SQL commands to create and populate your database. \n",
    "\n",
    "💡 **You don't really need to understand what's happening down there, you can just execute the code and move on to the next section.**"
   ]
  },
  {
   "cell_type": "code",
   "execution_count": 22,
   "id": "d37c1b81",
   "metadata": {
    "vscode": {
     "languageId": "sql"
    }
   },
   "outputs": [],
   "source": [
    "#Import required libraries for data processing\n",
    "\n",
    "import urllib.request\n",
    "import os\n",
    "import sqlite3\n",
    "import pandas as pd  # added for dataframe operations"
   ]
  },
  {
   "cell_type": "code",
   "execution_count": 23,
   "id": "1cd24bd6",
   "metadata": {
    "vscode": {
     "languageId": "sql"
    }
   },
   "outputs": [
    {
     "name": "stdout",
     "output_type": "stream",
     "text": [
      "Database already exists.\n"
     ]
    }
   ],
   "source": [
    "# Verifying if the database file exists, if not, download it. Instantiate the connection to the database.\n",
    "\n",
    "url = \"https://github.com/jpwhite3/northwind-SQLite3/raw/refs/heads/main/dist/northwind.db\"\n",
    "db_path = \"northwind.db\"\n",
    "\n",
    "if not os.path.exists(db_path):\n",
    "    print(\"Downloading the database...\")\n",
    "    urllib.request.urlretrieve(url, db_path)\n",
    "    print(\"Database downloaded successfully!\")\n",
    "else:\n",
    "    print(\"Database already exists.\")\n",
    "\n",
    "# Connexion à la base\n",
    "conn = sqlite3.connect(db_path)\n",
    "cursor = conn.cursor()\n"
   ]
  },
  {
   "cell_type": "code",
   "execution_count": 24,
   "id": "b8fc984d",
   "metadata": {
    "vscode": {
     "languageId": "sql"
    }
   },
   "outputs": [],
   "source": [
    "def query_and_print(query):\n",
    "    \"\"\"\n",
    "    Execute a SQL query and print the results.\n",
    "    \"\"\"\n",
    "    cursor.execute(query)\n",
    "    results = cursor.fetchall()\n",
    "    \n",
    "    # Convert results to a DataFrame for better readability\n",
    "    df = pd.DataFrame(results, columns=[desc[0] for desc in cursor.description])\n",
    "    \n",
    "    print(df.to_string(index=False))\n",
    "    return df"
   ]
  },
  {
   "cell_type": "markdown",
   "id": "6ad22e27",
   "metadata": {},
   "source": [
    "\n",
    "---\n",
    "\n",
    "# Back to our SQL queries\n",
    "\n",
    "SQL is the standard language for talking to databases – the organized stores of information that power your business. Think of SQL as the tool that lets you ask questions of your data and get the answers you need to make better decisions. It's like having a direct line to your company's knowledge.\n",
    "\n",
    "Why is SQL Important for Business Professionals?\n",
    "\n",
    "SQL empowers you to:\n",
    "\n",
    "Get answers to critical business questions: Instead of relying solely on reports or technical teams, you can use SQL to directly query your data and answer questions like:\n",
    "+ What are my top-selling products this quarter?\n",
    "+ Which marketing campaigns are generating the most leads?\n",
    "+ What is the average order value for customers in a specific region?\n",
    "+ Who are my most valuable customers, and what are they buying?\n",
    "\n"
   ]
  },
  {
   "cell_type": "markdown",
   "id": "d6f7ee89",
   "metadata": {},
   "source": [
    "\n",
    "---\n",
    "\n",
    "# 🤖 SQL + AI: Smarter Queries, Safer Data\n",
    "\n",
    "AI speed up and simplify greatly the SQL query generation, but it requires a thoughtful approach, and a bit of practice to get the most out of it. Here are some tips to help you effectively use AI for SQL query generation:\n",
    "\n",
    "### 1. Prompt Engineering:\n",
    "\n",
    "Set the Stage: Begin by defining the context: \"As a database engineer using [Your Database System]...\" that will help the system understand the environment and constraints.\n",
    "This important for the query to have the proper syntax and to avoid errors.\n",
    "\n",
    "🫸 Schema as Context: Always provide the relevant database schema as text at the beginning of your prompt or discussion. Without it, the AI model cannot understand what data it is manipulating, and will NEVER give you \n",
    "\n",
    "### 2. Prompt Engineering:\n",
    "\n",
    "Clarity is Key: Articulate your needs precisely. Avoid ambiguity!\n",
    "Example Prompts:\n",
    "\"I want the products generating the most revenue between 2014 and 2018.\"\n",
    "\"I want the name and phone number of our lead customer with over $1 million in purchases.\"\n",
    "Critical Review:\n",
    "\n",
    "Always Validate the AI's Output!\n",
    "Watch Out For:\n",
    "+ Inaccurate dates or filters - That could get you wrong results and insights\n",
    "+ Destructive commands like DELETE or DROP TABLE - This can put in danger your whole database, and compromise the operations of others !\n",
    "\n",
    "---\n"
   ]
  },
  {
   "cell_type": "markdown",
   "id": "368e7644",
   "metadata": {},
   "source": [
    "\n",
    "---\n",
    "\n",
    "# Let's cross the Rubicon !\n",
    "\n",
    "Alright, let's get our hands dirty. Imagine we've just been hired as the new data analysts for a company called \"Northwind traders\". They are a small but ambitious company that imports and exports gourmet food products around the world.\n",
    "\n",
    "Our manager has given us our first big mission: Help the company boost its sales.\n",
    "\n",
    "That's a broad goal. Where do we even begin? As data people, our first instinct should be to look at the data we have. We need to understand the business before we can change it. Our main tool for this investigation will be SQL.\n",
    "\n",
    "Let's start by asking some basic questions.\n"
   ]
  },
  {
   "cell_type": "markdown",
   "id": "bdd2b2cb",
   "metadata": {},
   "source": [
    "Peeking into the data with select and limit\n",
    "Before we can think about sales, we need to know what we're actually selling. Our database has a table called Products that seems like a good place to start.\n",
    "\n",
    "Let's ask the database to show us everything in that table. The command for \"show me\" in SQL is select. If we want to see every column, we use the asterisk *, which is a wildcard for \"all\"."
   ]
  },
  {
   "cell_type": "code",
   "execution_count": 25,
   "id": "dab907b1",
   "metadata": {
    "vscode": {
     "languageId": "sql"
    }
   },
   "outputs": [
    {
     "name": "stdout",
     "output_type": "stream",
     "text": [
      " ProductID                      ProductName  SupplierID  CategoryID      QuantityPerUnit  UnitPrice  UnitsInStock  UnitsOnOrder  ReorderLevel Discontinued\n",
      "         1                             Chai           1           1   10 boxes x 20 bags      18.00            39             0            10            0\n",
      "         2                            Chang           1           1   24 - 12 oz bottles      19.00            17            40            25            0\n",
      "         3                    Aniseed Syrup           1           2  12 - 550 ml bottles      10.00            13            70            25            0\n",
      "         4     Chef Anton's Cajun Seasoning           2           2       48 - 6 oz jars      22.00            53             0             0            0\n",
      "         5           Chef Anton's Gumbo Mix           2           2             36 boxes      21.35             0             0             0            1\n",
      "         6     Grandma's Boysenberry Spread           3           2       12 - 8 oz jars      25.00           120             0            25            0\n",
      "         7  Uncle Bob's Organic Dried Pears           3           7      12 - 1 lb pkgs.      30.00            15             0            10            0\n",
      "         8       Northwoods Cranberry Sauce           3           2      12 - 12 oz jars      40.00             6             0             0            0\n",
      "         9                  Mishi Kobe Niku           4           6     18 - 500 g pkgs.      97.00            29             0             0            1\n",
      "        10                            Ikura           4           8     12 - 200 ml jars      31.00            31             0             0            0\n",
      "        11                   Queso Cabrales           5           4            1 kg pkg.      21.00            22            30            30            0\n",
      "        12        Queso Manchego La Pastora           5           4     10 - 500 g pkgs.      38.00            86             0             0            0\n",
      "        13                            Konbu           6           8             2 kg box       6.00            24             0             5            0\n",
      "        14                             Tofu           6           7     40 - 100 g pkgs.      23.25            35             0             0            0\n",
      "        15                     Genen Shouyu           6           2  24 - 250 ml bottles      15.50            39             0             5            0\n",
      "        16                          Pavlova           7           3     32 - 500 g boxes      17.45            29             0            10            0\n",
      "        17                     Alice Mutton           7           6       20 - 1 kg tins      39.00             0             0             0            1\n",
      "        18                 Carnarvon Tigers           7           8           16 kg pkg.      62.50            42             0             0            0\n",
      "        19       Teatime Chocolate Biscuits           8           3 10 boxes x 12 pieces       9.20            25             0             5            0\n",
      "        20           Sir Rodney's Marmalade           8           3        30 gift boxes      81.00            40             0             0            0\n",
      "        21              Sir Rodney's Scones           8           3  24 pkgs. x 4 pieces      10.00             3            40             5            0\n",
      "        22              Gustaf's Knäckebröd           9           5     24 - 500 g pkgs.      21.00           104             0            25            0\n",
      "        23                         Tunnbröd           9           5     12 - 250 g pkgs.       9.00            61             0            25            0\n",
      "        24               Guaraná Fantástica          10           1     12 - 355 ml cans       4.50            20             0             0            1\n",
      "        25          NuNuCa Nuß-Nougat-Creme          11           3   20 - 450 g glasses      14.00            76             0            30            0\n",
      "        26              Gumbär Gummibärchen          11           3     100 - 250 g bags      31.23            15             0             0            0\n",
      "        27               Schoggi Schokolade          11           3   100 - 100 g pieces      43.90            49             0            30            0\n",
      "        28                Rössle Sauerkraut          12           7      25 - 825 g cans      45.60            26             0             0            1\n",
      "        29          Thüringer Rostbratwurst          12           6 50 bags x 30 sausgs.     123.79             0             0             0            1\n",
      "        30            Nord-Ost Matjeshering          13           8   10 - 200 g glasses      25.89            10             0            15            0\n",
      "        31                Gorgonzola Telino          14           4      12 - 100 g pkgs      12.50             0            70            20            0\n",
      "        32               Mascarpone Fabioli          14           4     24 - 200 g pkgs.      32.00             9            40            25            0\n",
      "        33                          Geitost          15           4                500 g       2.50           112             0            20            0\n",
      "        34                    Sasquatch Ale          16           1   24 - 12 oz bottles      14.00           111             0            15            0\n",
      "        35                   Steeleye Stout          16           1   24 - 12 oz bottles      18.00            20             0            15            0\n",
      "        36                      Inlagd Sill          17           8     24 - 250 g  jars      19.00           112             0            20            0\n",
      "        37                       Gravad lax          17           8     12 - 500 g pkgs.      26.00            11            50            25            0\n",
      "        38                    Côte de Blaye          18           1   12 - 75 cl bottles     263.50            17             0            15            0\n",
      "        39                 Chartreuse verte          18           1    750 cc per bottle      18.00            69             0             5            0\n",
      "        40                 Boston Crab Meat          19           8       24 - 4 oz tins      18.40           123             0            30            0\n",
      "        41  Jack's New England Clam Chowder          19           8      12 - 12 oz cans       9.65            85             0            10            0\n",
      "        42    Singaporean Hokkien Fried Mee          20           5      32 - 1 kg pkgs.      14.00            26             0             0            1\n",
      "        43                      Ipoh Coffee          20           1      16 - 500 g tins      46.00            17            10            25            0\n",
      "        44                     Gula Malacca          20           2       20 - 2 kg bags      19.45            27             0            15            0\n",
      "        45                      Rogede sild          21           8              1k pkg.       9.50             5            70            15            0\n",
      "        46                        Spegesild          21           8    4 - 450 g glasses      12.00            95             0             0            0\n",
      "        47                    Zaanse koeken          22           3      10 - 4 oz boxes       9.50            36             0             0            0\n",
      "        48                        Chocolade          22           3             10 pkgs.      12.75            15            70            25            0\n",
      "        49                         Maxilaku          23           3      24 - 50 g pkgs.      20.00            10            60            15            0\n",
      "        50                 Valkoinen suklaa          23           3      12 - 100 g bars      16.25            65             0            30            0\n",
      "        51            Manjimup Dried Apples          24           7     50 - 300 g pkgs.      53.00            20             0            10            0\n",
      "        52                         Filo Mix          24           5      16 - 2 kg boxes       7.00            38             0            25            0\n",
      "        53                    Perth Pasties          24           6            48 pieces      32.80             0             0             0            1\n",
      "        54                        Tourtière          25           6              16 pies       7.45            21             0            10            0\n",
      "        55                     Pâté chinois          25           6    24 boxes x 2 pies      24.00           115             0            20            0\n",
      "        56           Gnocchi di nonna Alice          26           5     24 - 250 g pkgs.      38.00            21            10            30            0\n",
      "        57                   Ravioli Angelo          26           5     24 - 250 g pkgs.      19.50            36             0            20            0\n",
      "        58           Escargots de Bourgogne          27           8            24 pieces      13.25            62             0            20            0\n",
      "        59             Raclette Courdavault          28           4            5 kg pkg.      55.00            79             0             0            0\n",
      "        60                Camembert Pierrot          28           4    15 - 300 g rounds      34.00            19             0             0            0\n",
      "        61                   Sirop d'érable          29           2  24 - 500 ml bottles      28.50           113             0            25            0\n",
      "        62                   Tarte au sucre          29           3              48 pies      49.30            17             0             0            0\n",
      "        63                     Vegie-spread           7           2      15 - 625 g jars      43.90            24             0             5            0\n",
      "        64        Wimmers gute Semmelknödel          12           5   20 bags x 4 pieces      33.25            22            80            30            0\n",
      "        65 Louisiana Fiery Hot Pepper Sauce           2           2    32 - 8 oz bottles      21.05            76             0             0            0\n",
      "        66        Louisiana Hot Spiced Okra           2           2       24 - 8 oz jars      17.00             4           100            20            0\n",
      "        67        Laughing Lumberjack Lager          16           1   24 - 12 oz bottles      14.00            52             0            10            0\n",
      "        68              Scottish Longbreads           8           3  10 boxes x 8 pieces      12.50             6            10            15            0\n",
      "        69                 Gudbrandsdalsost          15           4           10 kg pkg.      36.00            26             0            15            0\n",
      "        70                    Outback Lager           7           1  24 - 355 ml bottles      15.00            15            10            30            0\n",
      "        71                      Flotemysost          15           4     10 - 500 g pkgs.      21.50            26             0             0            0\n",
      "        72           Mozzarella di Giovanni          14           4     24 - 200 g pkgs.      34.80            14             0             0            0\n",
      "        73                       Röd Kaviar          17           8      24 - 150 g jars      15.00           101             0             5            0\n",
      "        74                    Longlife Tofu           4           7            5 kg pkg.      10.00             4            20             5            0\n",
      "        75             Rhönbräu Klosterbier          12           1   24 - 0.5 l bottles       7.75           125             0            25            0\n",
      "        76                     Lakkalikööri          23           1               500 ml      18.00            57             0            20            0\n",
      "        77  Original Frankfurter grüne Soße          12           2             12 boxes      13.00            32             0            15            0\n"
     ]
    },
    {
     "data": {
      "text/html": [
       "<div>\n",
       "<style scoped>\n",
       "    .dataframe tbody tr th:only-of-type {\n",
       "        vertical-align: middle;\n",
       "    }\n",
       "\n",
       "    .dataframe tbody tr th {\n",
       "        vertical-align: top;\n",
       "    }\n",
       "\n",
       "    .dataframe thead th {\n",
       "        text-align: right;\n",
       "    }\n",
       "</style>\n",
       "<table border=\"1\" class=\"dataframe\">\n",
       "  <thead>\n",
       "    <tr style=\"text-align: right;\">\n",
       "      <th></th>\n",
       "      <th>ProductID</th>\n",
       "      <th>ProductName</th>\n",
       "      <th>SupplierID</th>\n",
       "      <th>CategoryID</th>\n",
       "      <th>QuantityPerUnit</th>\n",
       "      <th>UnitPrice</th>\n",
       "      <th>UnitsInStock</th>\n",
       "      <th>UnitsOnOrder</th>\n",
       "      <th>ReorderLevel</th>\n",
       "      <th>Discontinued</th>\n",
       "    </tr>\n",
       "  </thead>\n",
       "  <tbody>\n",
       "    <tr>\n",
       "      <th>0</th>\n",
       "      <td>1</td>\n",
       "      <td>Chai</td>\n",
       "      <td>1</td>\n",
       "      <td>1</td>\n",
       "      <td>10 boxes x 20 bags</td>\n",
       "      <td>18.00</td>\n",
       "      <td>39</td>\n",
       "      <td>0</td>\n",
       "      <td>10</td>\n",
       "      <td>0</td>\n",
       "    </tr>\n",
       "    <tr>\n",
       "      <th>1</th>\n",
       "      <td>2</td>\n",
       "      <td>Chang</td>\n",
       "      <td>1</td>\n",
       "      <td>1</td>\n",
       "      <td>24 - 12 oz bottles</td>\n",
       "      <td>19.00</td>\n",
       "      <td>17</td>\n",
       "      <td>40</td>\n",
       "      <td>25</td>\n",
       "      <td>0</td>\n",
       "    </tr>\n",
       "    <tr>\n",
       "      <th>2</th>\n",
       "      <td>3</td>\n",
       "      <td>Aniseed Syrup</td>\n",
       "      <td>1</td>\n",
       "      <td>2</td>\n",
       "      <td>12 - 550 ml bottles</td>\n",
       "      <td>10.00</td>\n",
       "      <td>13</td>\n",
       "      <td>70</td>\n",
       "      <td>25</td>\n",
       "      <td>0</td>\n",
       "    </tr>\n",
       "    <tr>\n",
       "      <th>3</th>\n",
       "      <td>4</td>\n",
       "      <td>Chef Anton's Cajun Seasoning</td>\n",
       "      <td>2</td>\n",
       "      <td>2</td>\n",
       "      <td>48 - 6 oz jars</td>\n",
       "      <td>22.00</td>\n",
       "      <td>53</td>\n",
       "      <td>0</td>\n",
       "      <td>0</td>\n",
       "      <td>0</td>\n",
       "    </tr>\n",
       "    <tr>\n",
       "      <th>4</th>\n",
       "      <td>5</td>\n",
       "      <td>Chef Anton's Gumbo Mix</td>\n",
       "      <td>2</td>\n",
       "      <td>2</td>\n",
       "      <td>36 boxes</td>\n",
       "      <td>21.35</td>\n",
       "      <td>0</td>\n",
       "      <td>0</td>\n",
       "      <td>0</td>\n",
       "      <td>1</td>\n",
       "    </tr>\n",
       "    <tr>\n",
       "      <th>...</th>\n",
       "      <td>...</td>\n",
       "      <td>...</td>\n",
       "      <td>...</td>\n",
       "      <td>...</td>\n",
       "      <td>...</td>\n",
       "      <td>...</td>\n",
       "      <td>...</td>\n",
       "      <td>...</td>\n",
       "      <td>...</td>\n",
       "      <td>...</td>\n",
       "    </tr>\n",
       "    <tr>\n",
       "      <th>72</th>\n",
       "      <td>73</td>\n",
       "      <td>Röd Kaviar</td>\n",
       "      <td>17</td>\n",
       "      <td>8</td>\n",
       "      <td>24 - 150 g jars</td>\n",
       "      <td>15.00</td>\n",
       "      <td>101</td>\n",
       "      <td>0</td>\n",
       "      <td>5</td>\n",
       "      <td>0</td>\n",
       "    </tr>\n",
       "    <tr>\n",
       "      <th>73</th>\n",
       "      <td>74</td>\n",
       "      <td>Longlife Tofu</td>\n",
       "      <td>4</td>\n",
       "      <td>7</td>\n",
       "      <td>5 kg pkg.</td>\n",
       "      <td>10.00</td>\n",
       "      <td>4</td>\n",
       "      <td>20</td>\n",
       "      <td>5</td>\n",
       "      <td>0</td>\n",
       "    </tr>\n",
       "    <tr>\n",
       "      <th>74</th>\n",
       "      <td>75</td>\n",
       "      <td>Rhönbräu Klosterbier</td>\n",
       "      <td>12</td>\n",
       "      <td>1</td>\n",
       "      <td>24 - 0.5 l bottles</td>\n",
       "      <td>7.75</td>\n",
       "      <td>125</td>\n",
       "      <td>0</td>\n",
       "      <td>25</td>\n",
       "      <td>0</td>\n",
       "    </tr>\n",
       "    <tr>\n",
       "      <th>75</th>\n",
       "      <td>76</td>\n",
       "      <td>Lakkalikööri</td>\n",
       "      <td>23</td>\n",
       "      <td>1</td>\n",
       "      <td>500 ml</td>\n",
       "      <td>18.00</td>\n",
       "      <td>57</td>\n",
       "      <td>0</td>\n",
       "      <td>20</td>\n",
       "      <td>0</td>\n",
       "    </tr>\n",
       "    <tr>\n",
       "      <th>76</th>\n",
       "      <td>77</td>\n",
       "      <td>Original Frankfurter grüne Soße</td>\n",
       "      <td>12</td>\n",
       "      <td>2</td>\n",
       "      <td>12 boxes</td>\n",
       "      <td>13.00</td>\n",
       "      <td>32</td>\n",
       "      <td>0</td>\n",
       "      <td>15</td>\n",
       "      <td>0</td>\n",
       "    </tr>\n",
       "  </tbody>\n",
       "</table>\n",
       "<p>77 rows × 10 columns</p>\n",
       "</div>"
      ],
      "text/plain": [
       "    ProductID                      ProductName  SupplierID  CategoryID  \\\n",
       "0           1                             Chai           1           1   \n",
       "1           2                            Chang           1           1   \n",
       "2           3                    Aniseed Syrup           1           2   \n",
       "3           4     Chef Anton's Cajun Seasoning           2           2   \n",
       "4           5           Chef Anton's Gumbo Mix           2           2   \n",
       "..        ...                              ...         ...         ...   \n",
       "72         73                       Röd Kaviar          17           8   \n",
       "73         74                    Longlife Tofu           4           7   \n",
       "74         75             Rhönbräu Klosterbier          12           1   \n",
       "75         76                     Lakkalikööri          23           1   \n",
       "76         77  Original Frankfurter grüne Soße          12           2   \n",
       "\n",
       "        QuantityPerUnit  UnitPrice  UnitsInStock  UnitsOnOrder  ReorderLevel  \\\n",
       "0    10 boxes x 20 bags      18.00            39             0            10   \n",
       "1    24 - 12 oz bottles      19.00            17            40            25   \n",
       "2   12 - 550 ml bottles      10.00            13            70            25   \n",
       "3        48 - 6 oz jars      22.00            53             0             0   \n",
       "4              36 boxes      21.35             0             0             0   \n",
       "..                  ...        ...           ...           ...           ...   \n",
       "72      24 - 150 g jars      15.00           101             0             5   \n",
       "73            5 kg pkg.      10.00             4            20             5   \n",
       "74   24 - 0.5 l bottles       7.75           125             0            25   \n",
       "75               500 ml      18.00            57             0            20   \n",
       "76             12 boxes      13.00            32             0            15   \n",
       "\n",
       "   Discontinued  \n",
       "0             0  \n",
       "1             0  \n",
       "2             0  \n",
       "3             0  \n",
       "4             1  \n",
       "..          ...  \n",
       "72            0  \n",
       "73            0  \n",
       "74            0  \n",
       "75            0  \n",
       "76            0  \n",
       "\n",
       "[77 rows x 10 columns]"
      ]
     },
     "execution_count": 25,
     "metadata": {},
     "output_type": "execute_result"
    }
   ],
   "source": [
    "query_and_print(\"SELECT * from Products;\")"
   ]
  },
  {
   "cell_type": "markdown",
   "id": "15e5b2b1",
   "metadata": {
    "vscode": {
     "languageId": "sql"
    }
   },
   "source": [
    "Running this, you'll see a lot of data. Maybe too much. We don't need to see every single product right now, we just want to get a feel for the table's structure.\n",
    "\n",
    "To ask for just a sample, we can add a limit clause. This is useful for taking a quick peek without overwhelming our screen. Let's just look at the first 5 products. To do that, we will be using the clause \"LIMIT\"."
   ]
  },
  {
   "cell_type": "code",
   "execution_count": 26,
   "id": "3afb5dfe",
   "metadata": {
    "vscode": {
     "languageId": "sql"
    }
   },
   "outputs": [
    {
     "name": "stdout",
     "output_type": "stream",
     "text": [
      " ProductID                  ProductName  SupplierID  CategoryID     QuantityPerUnit  UnitPrice  UnitsInStock  UnitsOnOrder  ReorderLevel Discontinued\n",
      "         1                         Chai           1           1  10 boxes x 20 bags      18.00            39             0            10            0\n",
      "         2                        Chang           1           1  24 - 12 oz bottles      19.00            17            40            25            0\n",
      "         3                Aniseed Syrup           1           2 12 - 550 ml bottles      10.00            13            70            25            0\n",
      "         4 Chef Anton's Cajun Seasoning           2           2      48 - 6 oz jars      22.00            53             0             0            0\n",
      "         5       Chef Anton's Gumbo Mix           2           2            36 boxes      21.35             0             0             0            1\n"
     ]
    },
    {
     "data": {
      "text/html": [
       "<div>\n",
       "<style scoped>\n",
       "    .dataframe tbody tr th:only-of-type {\n",
       "        vertical-align: middle;\n",
       "    }\n",
       "\n",
       "    .dataframe tbody tr th {\n",
       "        vertical-align: top;\n",
       "    }\n",
       "\n",
       "    .dataframe thead th {\n",
       "        text-align: right;\n",
       "    }\n",
       "</style>\n",
       "<table border=\"1\" class=\"dataframe\">\n",
       "  <thead>\n",
       "    <tr style=\"text-align: right;\">\n",
       "      <th></th>\n",
       "      <th>ProductID</th>\n",
       "      <th>ProductName</th>\n",
       "      <th>SupplierID</th>\n",
       "      <th>CategoryID</th>\n",
       "      <th>QuantityPerUnit</th>\n",
       "      <th>UnitPrice</th>\n",
       "      <th>UnitsInStock</th>\n",
       "      <th>UnitsOnOrder</th>\n",
       "      <th>ReorderLevel</th>\n",
       "      <th>Discontinued</th>\n",
       "    </tr>\n",
       "  </thead>\n",
       "  <tbody>\n",
       "    <tr>\n",
       "      <th>0</th>\n",
       "      <td>1</td>\n",
       "      <td>Chai</td>\n",
       "      <td>1</td>\n",
       "      <td>1</td>\n",
       "      <td>10 boxes x 20 bags</td>\n",
       "      <td>18.00</td>\n",
       "      <td>39</td>\n",
       "      <td>0</td>\n",
       "      <td>10</td>\n",
       "      <td>0</td>\n",
       "    </tr>\n",
       "    <tr>\n",
       "      <th>1</th>\n",
       "      <td>2</td>\n",
       "      <td>Chang</td>\n",
       "      <td>1</td>\n",
       "      <td>1</td>\n",
       "      <td>24 - 12 oz bottles</td>\n",
       "      <td>19.00</td>\n",
       "      <td>17</td>\n",
       "      <td>40</td>\n",
       "      <td>25</td>\n",
       "      <td>0</td>\n",
       "    </tr>\n",
       "    <tr>\n",
       "      <th>2</th>\n",
       "      <td>3</td>\n",
       "      <td>Aniseed Syrup</td>\n",
       "      <td>1</td>\n",
       "      <td>2</td>\n",
       "      <td>12 - 550 ml bottles</td>\n",
       "      <td>10.00</td>\n",
       "      <td>13</td>\n",
       "      <td>70</td>\n",
       "      <td>25</td>\n",
       "      <td>0</td>\n",
       "    </tr>\n",
       "    <tr>\n",
       "      <th>3</th>\n",
       "      <td>4</td>\n",
       "      <td>Chef Anton's Cajun Seasoning</td>\n",
       "      <td>2</td>\n",
       "      <td>2</td>\n",
       "      <td>48 - 6 oz jars</td>\n",
       "      <td>22.00</td>\n",
       "      <td>53</td>\n",
       "      <td>0</td>\n",
       "      <td>0</td>\n",
       "      <td>0</td>\n",
       "    </tr>\n",
       "    <tr>\n",
       "      <th>4</th>\n",
       "      <td>5</td>\n",
       "      <td>Chef Anton's Gumbo Mix</td>\n",
       "      <td>2</td>\n",
       "      <td>2</td>\n",
       "      <td>36 boxes</td>\n",
       "      <td>21.35</td>\n",
       "      <td>0</td>\n",
       "      <td>0</td>\n",
       "      <td>0</td>\n",
       "      <td>1</td>\n",
       "    </tr>\n",
       "  </tbody>\n",
       "</table>\n",
       "</div>"
      ],
      "text/plain": [
       "   ProductID                   ProductName  SupplierID  CategoryID  \\\n",
       "0          1                          Chai           1           1   \n",
       "1          2                         Chang           1           1   \n",
       "2          3                 Aniseed Syrup           1           2   \n",
       "3          4  Chef Anton's Cajun Seasoning           2           2   \n",
       "4          5        Chef Anton's Gumbo Mix           2           2   \n",
       "\n",
       "       QuantityPerUnit  UnitPrice  UnitsInStock  UnitsOnOrder  ReorderLevel  \\\n",
       "0   10 boxes x 20 bags      18.00            39             0            10   \n",
       "1   24 - 12 oz bottles      19.00            17            40            25   \n",
       "2  12 - 550 ml bottles      10.00            13            70            25   \n",
       "3       48 - 6 oz jars      22.00            53             0             0   \n",
       "4             36 boxes      21.35             0             0             0   \n",
       "\n",
       "  Discontinued  \n",
       "0            0  \n",
       "1            0  \n",
       "2            0  \n",
       "3            0  \n",
       "4            1  "
      ]
     },
     "execution_count": 26,
     "metadata": {},
     "output_type": "execute_result"
    }
   ],
   "source": [
    "query_and_print(\"SELECT * from Products LIMIT 5;\")"
   ]
  },
  {
   "cell_type": "markdown",
   "id": "ac109138",
   "metadata": {},
   "source": [
    "Much better. Now we can see the columns clearly: ProductID, ProductName, SupplierID, UnitPrice, etc.\n",
    "\n",
    "The * is handy, but most of the time we only care about a few specific columns. For our sales mission, the product name and its price are probably quite important. Let's select just those two columns."
   ]
  },
  {
   "cell_type": "code",
   "execution_count": 27,
   "id": "fd2250f5",
   "metadata": {
    "vscode": {
     "languageId": "sql"
    }
   },
   "outputs": [
    {
     "name": "stdout",
     "output_type": "stream",
     "text": [
      "                 ProductName  UnitPrice\n",
      "                        Chai      18.00\n",
      "                       Chang      19.00\n",
      "               Aniseed Syrup      10.00\n",
      "Chef Anton's Cajun Seasoning      22.00\n",
      "      Chef Anton's Gumbo Mix      21.35\n"
     ]
    },
    {
     "data": {
      "text/html": [
       "<div>\n",
       "<style scoped>\n",
       "    .dataframe tbody tr th:only-of-type {\n",
       "        vertical-align: middle;\n",
       "    }\n",
       "\n",
       "    .dataframe tbody tr th {\n",
       "        vertical-align: top;\n",
       "    }\n",
       "\n",
       "    .dataframe thead th {\n",
       "        text-align: right;\n",
       "    }\n",
       "</style>\n",
       "<table border=\"1\" class=\"dataframe\">\n",
       "  <thead>\n",
       "    <tr style=\"text-align: right;\">\n",
       "      <th></th>\n",
       "      <th>ProductName</th>\n",
       "      <th>UnitPrice</th>\n",
       "    </tr>\n",
       "  </thead>\n",
       "  <tbody>\n",
       "    <tr>\n",
       "      <th>0</th>\n",
       "      <td>Chai</td>\n",
       "      <td>18.00</td>\n",
       "    </tr>\n",
       "    <tr>\n",
       "      <th>1</th>\n",
       "      <td>Chang</td>\n",
       "      <td>19.00</td>\n",
       "    </tr>\n",
       "    <tr>\n",
       "      <th>2</th>\n",
       "      <td>Aniseed Syrup</td>\n",
       "      <td>10.00</td>\n",
       "    </tr>\n",
       "    <tr>\n",
       "      <th>3</th>\n",
       "      <td>Chef Anton's Cajun Seasoning</td>\n",
       "      <td>22.00</td>\n",
       "    </tr>\n",
       "    <tr>\n",
       "      <th>4</th>\n",
       "      <td>Chef Anton's Gumbo Mix</td>\n",
       "      <td>21.35</td>\n",
       "    </tr>\n",
       "  </tbody>\n",
       "</table>\n",
       "</div>"
      ],
      "text/plain": [
       "                    ProductName  UnitPrice\n",
       "0                          Chai      18.00\n",
       "1                         Chang      19.00\n",
       "2                 Aniseed Syrup      10.00\n",
       "3  Chef Anton's Cajun Seasoning      22.00\n",
       "4        Chef Anton's Gumbo Mix      21.35"
      ]
     },
     "execution_count": 27,
     "metadata": {},
     "output_type": "execute_result"
    }
   ],
   "source": [
    "query_and_print(\"select ProductName, UnitPrice from Products limit 5;\")"
   ]
  },
  {
   "cell_type": "markdown",
   "id": "a3c43059",
   "metadata": {},
   "source": [
    "Here we go. We've just used the most fundamental command in SQL.\n",
    "\n",
    "+ Select lets us choose the columns we want to see.\n",
    "+ From tells the database which table to look in.\n",
    "+ Limit restricts the number of rows returned."
   ]
  },
  {
   "cell_type": "markdown",
   "id": "b5017b91",
   "metadata": {},
   "source": [
    "### Finding what you need with where\n",
    "Looking at a random list of products is a start, but to make smart decisions, we need to ask more specific questions. For instance, a simple sales strategy could be to promote our high-value items.\n",
    "\n",
    "So, let's ask the database: \"Show me the products that are expensive\". We need to define \"expensive\". Let's say, for now, any product with a UnitPrice greater than 50.\n",
    "\n",
    "To filter our data based on a condition, we use the where clause. Think of it as adding an \"if\" to your request."
   ]
  },
  {
   "cell_type": "code",
   "execution_count": 28,
   "id": "4b32b0f8",
   "metadata": {
    "vscode": {
     "languageId": "sql"
    }
   },
   "outputs": [
    {
     "name": "stdout",
     "output_type": "stream",
     "text": [
      "            ProductName  UnitPrice\n",
      "        Mishi Kobe Niku      97.00\n",
      "       Carnarvon Tigers      62.50\n",
      " Sir Rodney's Marmalade      81.00\n",
      "Thüringer Rostbratwurst     123.79\n",
      "          Côte de Blaye     263.50\n",
      "  Manjimup Dried Apples      53.00\n",
      "   Raclette Courdavault      55.00\n"
     ]
    }
   ],
   "source": [
    "query_and_print(\"select ProductName, UnitPrice from Products where UnitPrice > 50;\");"
   ]
  },
  {
   "cell_type": "markdown",
   "id": "6de0bc41",
   "metadata": {},
   "source": [
    "Now we have a list of our premium products. Notice we used the greater-than symbol >. You can use other familiar comparison operators too:\n",
    "\n",
    "+ = : equals\n",
    "+ < : less than\n",
    "+ >= : greater than or equal to\n",
    "+ <= : less than or equal to\n",
    "+ <> or != : not equal to\n",
    "\n",
    "👉 Let's try another one. What if we want to find information about a specific customer? Let's look at the Customers table and find all of our customers based in Germany. When we filter on text (also called a 'string'), we need to put the value in single quotes ' '."
   ]
  },
  {
   "cell_type": "code",
   "execution_count": 29,
   "id": "1784f879",
   "metadata": {
    "vscode": {
     "languageId": "sql"
    }
   },
   "outputs": [
    {
     "name": "stdout",
     "output_type": "stream",
     "text": [
      "             CompanyName         ContactName           City\n",
      "     Alfreds Futterkiste        Maria Anders         Berlin\n",
      " Blauer See Delikatessen          Hanna Moos       Mannheim\n",
      "Drachenblut Delikatessen        Sven Ottlieb         Aachen\n",
      "          Frankenversand       Peter Franken        München\n",
      "         Königlich Essen       Philip Cramer    Brandenburg\n",
      "     Lehmanns Marktstand      Renate Messner Frankfurt a.M.\n",
      "  Morgenstern Gesundkost     Alexander Feuer        Leipzig\n",
      "      Ottilies Käseladen Henriette Pfalzheim           Köln\n",
      "              QUICK-Stop         Horst Kloss      Cunewalde\n",
      "      Toms Spezialitäten       Karin Josephs        Münster\n",
      "       Die Wandernde Kuh         Rita Müller      Stuttgart\n"
     ]
    }
   ],
   "source": [
    "query_and_print(\"select CompanyName, ContactName, City from Customers where Country = 'Germany';\");"
   ]
  },
  {
   "cell_type": "markdown",
   "id": "291f098e",
   "metadata": {},
   "source": [
    "#### Combining conditions with and and or\n",
    "\n",
    "Our questions can get more complex. It's good that we found our expensive products, but what if an expensive product is out of stock? We can't sell it.\n",
    "\n",
    "Let's refine our previous query. We want products that are both expensive (UnitPrice > 50) and actually in stock (UnitsInStock > 0).\n",
    "\n",
    "To check for multiple conditions where all must be true, we use and."
   ]
  },
  {
   "cell_type": "code",
   "execution_count": 30,
   "id": "0de16a34",
   "metadata": {
    "vscode": {
     "languageId": "sql"
    }
   },
   "outputs": [
    {
     "name": "stdout",
     "output_type": "stream",
     "text": [
      "           ProductName  UnitPrice  UnitsInStock\n",
      "       Mishi Kobe Niku       97.0            29\n",
      "      Carnarvon Tigers       62.5            42\n",
      "Sir Rodney's Marmalade       81.0            40\n",
      "         Côte de Blaye      263.5            17\n",
      " Manjimup Dried Apples       53.0            20\n",
      "  Raclette Courdavault       55.0            79\n"
     ]
    }
   ],
   "source": [
    "query_and_print(\"select ProductName, UnitPrice, UnitsInStock from Products where UnitPrice > 50 and UnitsInStock > 0;\");"
   ]
  },
  {
   "cell_type": "markdown",
   "id": "585679fc",
   "metadata": {},
   "source": [
    "This list is much more useful for a sales campaign.\n",
    "\n",
    "Now, let's consider a different strategy. Perhaps we want to run a marketing campaign in our key European markets, say Germany and France. We need a list of customers who are in Germany or in France.\n",
    "\n",
    "For this, we use the or operator. It will show a row if any of the conditions are met."
   ]
  },
  {
   "cell_type": "code",
   "execution_count": 31,
   "id": "fbeb6651",
   "metadata": {
    "vscode": {
     "languageId": "sql"
    }
   },
   "outputs": [
    {
     "name": "stdout",
     "output_type": "stream",
     "text": [
      "              CompanyName     Country\n",
      " Blondesddsl père et fils      France\n",
      "                 Bon app'      France\n",
      "        Chop-suey Chinese Switzerland\n",
      "          Du monde entier      France\n",
      "        Folies gourmandes      France\n",
      "      France restauration      France\n",
      "     La corne d'abondance      France\n",
      "         La maison d'Asie      France\n",
      "        Paris spécialités      France\n",
      "       Richter Supermarkt Switzerland\n",
      "     Spécialités du monde      France\n",
      "     Victuailles en stock      France\n",
      "Vins et alcools Chevalier      France\n"
     ]
    }
   ],
   "source": [
    "query_and_print(\"select CompanyName, Country from Customers where Country = 'Switzerland' or Country = 'France';\");"
   ]
  },
  {
   "cell_type": "markdown",
   "id": "a8fe5672",
   "metadata": {},
   "source": [
    "### Creating new information with calculations\n",
    "Let's look at the Order Details table. It seems to hold the key to our sales performance. It has OrderID, ProductID, UnitPrice, and Quantity.\n",
    "\n",
    "Wait a minute 💡. It shows the price of a single unit and how many units were sold, but it doesn't have a column for the total value of that line item. No problem, we can calculate it ourselves, directly in the select statement."
   ]
  },
  {
   "cell_type": "code",
   "execution_count": 34,
   "id": "31431907",
   "metadata": {
    "vscode": {
     "languageId": "sql"
    }
   },
   "outputs": [
    {
     "name": "stdout",
     "output_type": "stream",
     "text": [
      " OrderID  ProductID  UnitPrice  Quantity  UnitPrice * Quantity\n",
      "   10248         11       14.0        12                 168.0\n",
      "   10248         42        9.8        10                  98.0\n",
      "   10248         72       34.8         5                 174.0\n",
      "   10249         14       18.6         9                 167.4\n",
      "   10249         51       42.4        40                1696.0\n",
      "   10250         41        7.7        10                  77.0\n",
      "   10250         51       42.4        35                1484.0\n",
      "   10250         65       16.8        15                 252.0\n",
      "   10251         22       16.8         6                 100.8\n",
      "   10251         57       15.6        15                 234.0\n"
     ]
    },
    {
     "data": {
      "text/html": [
       "<div>\n",
       "<style scoped>\n",
       "    .dataframe tbody tr th:only-of-type {\n",
       "        vertical-align: middle;\n",
       "    }\n",
       "\n",
       "    .dataframe tbody tr th {\n",
       "        vertical-align: top;\n",
       "    }\n",
       "\n",
       "    .dataframe thead th {\n",
       "        text-align: right;\n",
       "    }\n",
       "</style>\n",
       "<table border=\"1\" class=\"dataframe\">\n",
       "  <thead>\n",
       "    <tr style=\"text-align: right;\">\n",
       "      <th></th>\n",
       "      <th>OrderID</th>\n",
       "      <th>ProductID</th>\n",
       "      <th>UnitPrice</th>\n",
       "      <th>Quantity</th>\n",
       "      <th>UnitPrice * Quantity</th>\n",
       "    </tr>\n",
       "  </thead>\n",
       "  <tbody>\n",
       "    <tr>\n",
       "      <th>0</th>\n",
       "      <td>10248</td>\n",
       "      <td>11</td>\n",
       "      <td>14.0</td>\n",
       "      <td>12</td>\n",
       "      <td>168.0</td>\n",
       "    </tr>\n",
       "    <tr>\n",
       "      <th>1</th>\n",
       "      <td>10248</td>\n",
       "      <td>42</td>\n",
       "      <td>9.8</td>\n",
       "      <td>10</td>\n",
       "      <td>98.0</td>\n",
       "    </tr>\n",
       "    <tr>\n",
       "      <th>2</th>\n",
       "      <td>10248</td>\n",
       "      <td>72</td>\n",
       "      <td>34.8</td>\n",
       "      <td>5</td>\n",
       "      <td>174.0</td>\n",
       "    </tr>\n",
       "    <tr>\n",
       "      <th>3</th>\n",
       "      <td>10249</td>\n",
       "      <td>14</td>\n",
       "      <td>18.6</td>\n",
       "      <td>9</td>\n",
       "      <td>167.4</td>\n",
       "    </tr>\n",
       "    <tr>\n",
       "      <th>4</th>\n",
       "      <td>10249</td>\n",
       "      <td>51</td>\n",
       "      <td>42.4</td>\n",
       "      <td>40</td>\n",
       "      <td>1696.0</td>\n",
       "    </tr>\n",
       "    <tr>\n",
       "      <th>5</th>\n",
       "      <td>10250</td>\n",
       "      <td>41</td>\n",
       "      <td>7.7</td>\n",
       "      <td>10</td>\n",
       "      <td>77.0</td>\n",
       "    </tr>\n",
       "    <tr>\n",
       "      <th>6</th>\n",
       "      <td>10250</td>\n",
       "      <td>51</td>\n",
       "      <td>42.4</td>\n",
       "      <td>35</td>\n",
       "      <td>1484.0</td>\n",
       "    </tr>\n",
       "    <tr>\n",
       "      <th>7</th>\n",
       "      <td>10250</td>\n",
       "      <td>65</td>\n",
       "      <td>16.8</td>\n",
       "      <td>15</td>\n",
       "      <td>252.0</td>\n",
       "    </tr>\n",
       "    <tr>\n",
       "      <th>8</th>\n",
       "      <td>10251</td>\n",
       "      <td>22</td>\n",
       "      <td>16.8</td>\n",
       "      <td>6</td>\n",
       "      <td>100.8</td>\n",
       "    </tr>\n",
       "    <tr>\n",
       "      <th>9</th>\n",
       "      <td>10251</td>\n",
       "      <td>57</td>\n",
       "      <td>15.6</td>\n",
       "      <td>15</td>\n",
       "      <td>234.0</td>\n",
       "    </tr>\n",
       "  </tbody>\n",
       "</table>\n",
       "</div>"
      ],
      "text/plain": [
       "   OrderID  ProductID  UnitPrice  Quantity  UnitPrice * Quantity\n",
       "0    10248         11       14.0        12                 168.0\n",
       "1    10248         42        9.8        10                  98.0\n",
       "2    10248         72       34.8         5                 174.0\n",
       "3    10249         14       18.6         9                 167.4\n",
       "4    10249         51       42.4        40                1696.0\n",
       "5    10250         41        7.7        10                  77.0\n",
       "6    10250         51       42.4        35                1484.0\n",
       "7    10250         65       16.8        15                 252.0\n",
       "8    10251         22       16.8         6                 100.8\n",
       "9    10251         57       15.6        15                 234.0"
      ]
     },
     "execution_count": 34,
     "metadata": {},
     "output_type": "execute_result"
    }
   ],
   "source": [
    "# The 3 consecutive double quotes allow us to write a multi-line string in Python and to ignore quotes inside the string.\n",
    "query_and_print(\"\"\"select OrderID, ProductID, UnitPrice, Quantity, UnitPrice * Quantity\n",
    "from \"Order Details\" limit 10;\"\"\")"
   ]
  },
  {
   "cell_type": "markdown",
   "id": "c19c4947",
   "metadata": {},
   "source": [
    "\n",
    "---\n",
    "\n",
    "# Can't beat'em? JOIN'em!\n",
    "\n",
    "So, we've hit our first real data-wrangling challenge. We can see a ProductID in our list of valuable orders, but that's just a number. It doesn't tell our sales team whether the customer bought \"Chai\" or \"Chef Anton's Gumbo Mix\". \n",
    "\n",
    "That important piece of information, the product's name, lives in a completely different table, the Products table. This is intentional. \n",
    "\n",
    "**Databases are designed to be tidy** - instead of repeating the product name and description in every single order line, they just use a unique ID as a reference. It's like having a contact list with just phone numbers, and a separate address book. To find someone's address, you need to use their name to look them up in the other book. \n",
    "\n",
    "In SQL, this process of looking up and combining information from multiple tables is called a join. It's how we connect the dots using a shared piece of information—a \"key\" like ProductID—to build a more complete picture.\n",
    "\n"
   ]
  }
 ],
 "metadata": {
  "kernelspec": {
   "display_name": "Python 3",
   "language": "python",
   "name": "python3"
  },
  "language_info": {
   "codemirror_mode": {
    "name": "ipython",
    "version": 3
   },
   "file_extension": ".py",
   "mimetype": "text/x-python",
   "name": "python",
   "nbconvert_exporter": "python",
   "pygments_lexer": "ipython3",
   "version": "3.12.1"
  }
 },
 "nbformat": 4,
 "nbformat_minor": 5
}
