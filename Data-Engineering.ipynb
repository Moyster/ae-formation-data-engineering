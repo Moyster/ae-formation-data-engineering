{
 "cells": [
  {
   "cell_type": "markdown",
   "id": "893459ec",
   "metadata": {},
   "source": [
    "# Introduction to Data Engineering: Bridging the gap between raw data and insights 💡\n",
    "\n",
    "What we'll cover in this tutorial\n",
    "\n",
    "In this tutorial, we'll be using SQLite, a simple and easy-to-use database, to explore the fundamentals of data engineering and data preprocessing. We'll cover the following topics:\n",
    "+ Introduction to SQL: We'll learn the basics of SQL (Structured Query Language), the standard language for interacting with databases.\n",
    "+ Data Loading: We'll load the transformed data into a new table or file for further analysis.\n",
    "+ Data Extraction: We'll use SQL to extract data from our SQLite database.\n",
    "+ Data Transformation: We'll use SQL to clean, transform, and prepare the data for analysis. This will include handling missing values, inconsistent formatting, and duplicates.\n"
   ]
  },
  {
   "cell_type": "markdown",
   "id": "94d92371",
   "metadata": {},
   "source": [
    "### Quick Start: Where the hell are we? 📓\n",
    "\n",
    "Don't panic! This unfamiliar interface you're looking at is called a **Jupyter notebook** – think of it as a smart document that can actually run code. While it's built on Python (a programming language), today we're using it purely as our SQL playground.\n",
    "\n",
    "Phew 😌 so now what ?\n",
    "\n",
    "Jupyter notebooks work like an interactive document where you can mix explanatory text with executable code. Each gray box (called a \"cell\") contains either text or code. To run any code cell, simply click inside it and press `Shift + Enter` – the code executes and results appear directly below. Magic! ✨\n",
    "You can edit any code cell by clicking in it and typing, just like a regular text editor. The notebook has a memory – if you create a database connection in one cell, all the cells below can use it. This is perfect for our SQL journey: connect once, query many times.\n",
    "\n",
    "\n",
    "If something goes wrong or you want a fresh start, just use the menu: `Kernel → Restart & Clear Output`. This clears the notebook's memory and lets you start over. \n",
    "\n",
    "🫡 That's genuinely all you need to know! The beauty of notebooks is that you can experiment freely, see immediate results, and keep notes alongside your SQL queries. Each query you run stays visible with its results, creating a perfect learning trail. Ready to write some SQL? Let's go! 🚀"
   ]
  },
  {
   "cell_type": "markdown",
   "id": "c92e3619",
   "metadata": {},
   "source": [
    "### Understanding SQL and Relational Databases\n",
    "\n",
    "Think of relational databases as a collection of interconnected Excel spreadsheets 📊. \n",
    "\n",
    "Each spreadsheet (or table) represents a specific business entity – like \"Customers,\" \"Products,\" or \"Orders.\" To communicate with these databases, we use SQL (Structured Query Language), the universal language of databases.\n",
    "\n",
    "#### 📋 Database Building Blocks\n",
    "- Tables: Like a spreadsheet, each table stores information about one type of thing. So ... similar to Excel sheets, but more powerful and connected\n",
    "\n",
    "- Rows (Records): Individual entries in your table\n",
    "One row = one specific instance\n",
    "For example: In a table sotring the \"Orders\" information, each row represents a single order. It is also called \"records\" in database terminology\n",
    "\n",
    "- Columns (or Attributes for the Excel lovers): Those are the characteristics you track\n",
    "Each column stores one type of information, for an order, \"UnitPrice,\" \"Quantity,\" \"Discount\" in the \"Orders\" table\n",
    "Every column has a specific data type (text, number, date, etc.) and it's important to understand what and why we are storing them that way !\n",
    "\n",
    "  \n",
    "\n",
    "🔗 The Magic of Relationships\n",
    "The real power of relational databases comes from connecting tables together. This happens through special columns called keys:\n",
    "\n",
    " 👉 Primary Key (PK) 🔑\n",
    "It is an unique identifier for each record in a table, like a passport number or an id card – two records can't share the same primary key\n",
    "Example: CustomerID in the \"Customers\" table ensures each customer is unique, otherwise we couldn't identify them.\n",
    "\n",
    " 👉 Foreign Key (FK) 🔗\n",
    "A column that points to the primary key in another table\n",
    "This creates the bridge between related data, and were the power lies in !\n",
    "Example: The \"Orders\" table contains a CustomerID column (FK) that links to the CustomerID (PK) in \"Customers\". This connection tells you exactly which customer placed each order\n"
   ]
  },
  {
   "cell_type": "markdown",
   "id": "8771bee3",
   "metadata": {},
   "source": [
    "#### In this tutorial, we will be using the Northwind database, a sample database that contains data about a fictional company that imports and exports specialty foods. It includes tables for customers, orders, products, and more. The schema diagram above shows the relationships between the tables in the Northwind database.\n",
    "\n",
    "📐 Your First Database Schema\n",
    "Below is a visual map of the Northwind database – this is called a schema diagram. Each box represents a table, with its columns listed inside. The lines between boxes show how tables connect through their keys. \n",
    "\n",
    "Don't worry about memorizing this! Just notice how everything links together like a web. The beauty is that you can start at any table and follow the connections to find related information.\n"
   ]
  },
  {
   "cell_type": "markdown",
   "id": "daca02fc",
   "metadata": {},
   "source": [
    "![Northwind Database Schema](./images/db-schema-northwind.svg)"
   ]
  },
  {
   "cell_type": "markdown",
   "id": "c2d58d2c",
   "metadata": {},
   "source": [
    "\n",
    "---\n",
    "\n",
    "#  We need to populate our database with some data !\n",
    "\n",
    "\n",
    "\n",
    "We've created for you a small script that will create the Northwind database and populate it with some sample data. To make things easy, we use SQLite, a lightweight database that is easy to set up and use, and offers a simple way to work with SQL databases without needing a separate server.\n",
    "In a real-world scenario, you would typically connect to a database server (like PostgreSQL, MySQL, Snowflake, etc...) and run SQL commands to create and populate your database. \n",
    "\n",
    "💡 **You don't really need to understand what's happening down there, you can just execute the code and move on to the next section.**"
   ]
  },
  {
   "cell_type": "code",
   "execution_count": null,
   "id": "d37c1b81",
   "metadata": {
    "vscode": {
     "languageId": "sql"
    }
   },
   "outputs": [],
   "source": [
    "#Import required libraries for data processing\n",
    "\n",
    "import urllib.request\n",
    "import os\n",
    "import sqlite3\n",
    "import pandas as pd  # added for dataframe operations"
   ]
  },
  {
   "cell_type": "code",
   "execution_count": null,
   "id": "1cd24bd6",
   "metadata": {
    "vscode": {
     "languageId": "sql"
    }
   },
   "outputs": [],
   "source": [
    "# Verifying if the database file exists, if not, download it. Instantiate the connection to the database.\n",
    "\n",
    "url = \"https://github.com/jpwhite3/northwind-SQLite3/raw/refs/heads/main/dist/northwind.db\"\n",
    "db_path = \"northwind.db\"\n",
    "\n",
    "if not os.path.exists(db_path):\n",
    "    print(\"Downloading the database...\")\n",
    "    urllib.request.urlretrieve(url, db_path)\n",
    "    print(\"Database downloaded successfully!\")\n",
    "else:\n",
    "    print(\"Database already exists.\")\n",
    "\n",
    "# Connexion à la base\n",
    "conn = sqlite3.connect(db_path)\n",
    "cursor = conn.cursor()\n"
   ]
  },
  {
   "cell_type": "code",
   "execution_count": null,
   "id": "b8fc984d",
   "metadata": {
    "vscode": {
     "languageId": "sql"
    }
   },
   "outputs": [],
   "source": [
    "def query_and_print(query):\n",
    "    \"\"\"\n",
    "    Execute a SQL query and print the results.\n",
    "    \"\"\"\n",
    "    cursor.execute(query)\n",
    "    results = cursor.fetchall()\n",
    "    \n",
    "    # Convert results to a DataFrame for better readability\n",
    "    df = pd.DataFrame(results, columns=[desc[0] for desc in cursor.description])\n",
    "    \n",
    "    print(df.to_string(index=False))\n",
    "    return df"
   ]
  },
  {
   "cell_type": "markdown",
   "id": "6ad22e27",
   "metadata": {},
   "source": [
    "\n",
    "---\n",
    "\n",
    "# Back to our SQL queries\n",
    "\n",
    "SQL is the standard language for talking to databases – the organized stores of information that power your business. Think of SQL as the tool that lets you ask questions of your data and get the answers you need to make better decisions. It's like having a direct line to your company's knowledge.\n",
    "\n",
    "Why is SQL Important for Business Professionals?\n",
    "\n",
    "SQL empowers you to:\n",
    "\n",
    "Get answers to critical business questions: Instead of relying solely on reports or technical teams, you can use SQL to directly query your data and answer questions like:\n",
    "+ What are my top-selling products this quarter?\n",
    "+ Which marketing campaigns are generating the most leads?\n",
    "+ What is the average order value for customers in a specific region?\n",
    "+ Who are my most valuable customers, and what are they buying?\n",
    "\n"
   ]
  },
  {
   "cell_type": "markdown",
   "id": "d6f7ee89",
   "metadata": {},
   "source": [
    "---\n",
    "\n",
    "# 🤖 SQL + AI: Smarter Queries, Safer Data\n",
    "\n",
    "AI has revolutionized how we write SQL queries – transforming natural language questions into database commands in seconds. But like any powerful tool, it requires a thoughtful approach and a bit of practice to get the most out of it.\n",
    "\n",
    "### Choosing Your AI Assistant\n",
    "\n",
    "Not all AI tools are created equal when it comes to SQL:\n",
    "\n",
    "**Claude 4 sonnet / opus (Anthropic)** - Excellent at understanding complex business logic. From experience it handles large schemas well, which is super important on critical databases.\n",
    "More cautious with potentially destructive queries and Better at explaining its reasoning\n",
    "\n",
    "**ChatGPT 4.1  (OpenAI)** 🥈- Good for standard queries\n",
    "- Sometimes overly confident with complex joins\n",
    "\n",
    "**Company / private LLMs** 🏢 Keep your data inside ! A schema can contain important / confidential informations, be careful where you paste them.\n",
    "The good thing is that most company offer a private version of public LLM. \n",
    "\n",
    "### The Golden Rule: Schema First! 📋\n",
    "\n",
    "The #1 mistake people make? Asking for SQL without providing context. AI models aren't mind readers – they need to know your database structure.\n",
    "\n",
    "**❌ Bad Request:**\n",
    "What is a bad request ? Well ....\n",
    "```\n",
    "\"Show me our top customers\"\n",
    "```\n",
    "With no given context, the LLM will likely hallucinate and return something completly off track.\n",
    "\n",
    "**✅ Good Request:**\n",
    "```\n",
    "Given this database schema:\n",
    "- Customers (CustomerID, CompanyName, Country)\n",
    "- Orders (OrderID, CustomerID, OrderDate, Freight)\n",
    "- Order Details (OrderID, ProductID, UnitPrice, Quantity)\n",
    "\n",
    "Write a SQL query to show me the top 5 customers by total order value in 2023.\n",
    "```\n",
    "\n",
    "### Effective Prompting Strategies 🎯\n",
    "\n",
    "**1. Set the Technical Context**\n",
    "Always start with:\n",
    "- Your database system (PostgreSQL, MySQL, Snowflake, etc.). This is important as the SQL can slightly change between two db type. Also specify any specific SQL dialect requirements\n",
    "\n",
    "Example:\n",
    "```\n",
    "\"Using PostgreSQL 14, with tables containing millions of records...\"\n",
    "```\n",
    "\n",
    "**2. Be Crystal Clear About Your Needs**\n",
    "\n",
    "Instead of: \"I want customer data\"\n",
    "\n",
    "Try: \"I need a list of customers who:\n",
    "- Placed orders in the last 90 days\n",
    "- Have a total order value exceeding 10,000 CHF\n",
    "- Are based in Switzerland or Germany\n",
    "Include their company name, total spent, and last order date\"\n",
    "\n",
    "**3. Specify the Output Format**\n",
    "Tell the AI exactly what columns you want and how they should be named:\n",
    "```\n",
    "\"Return columns: CustomerName, TotalRevenue, LastOrderDate, Country\n",
    "Sort by TotalRevenue descending\"\n",
    "```\n",
    "\n",
    "### Real-World Example 💼\n",
    "\n",
    "Here's a complete, effective prompt:\n",
    "\n",
    "```\n",
    "I'm using MySQL 8.0. Here's my schema:\n",
    "\n",
    "Products (ProductID, ProductName, CategoryID, UnitPrice, UnitsInStock)\n",
    "Categories (CategoryID, CategoryName)\n",
    "Order_Details (OrderID, ProductID, UnitPrice, Quantity, Discount)\n",
    "Orders (OrderID, CustomerID, EmployeeID, OrderDate)\n",
    "\n",
    "Question: Which product categories generated the most revenue in Q4 2023, \n",
    "excluding any orders with more than 20% discount?\n",
    "\n",
    "Please write an efficient query that:\n",
    "- Joins all necessary tables\n",
    "- Calculates total revenue per category\n",
    "- Filters for Q4 2023 (October-December)\n",
    "- Excludes high-discount orders\n",
    "- Shows top 5 categories with their revenue\n",
    "```\n",
    "\n",
    "### The Safety Checklist 🛡️\n",
    "\n",
    "**Always Review Before Running:**\n",
    "\n",
    "1. 🧨 **Check for Destructive Commands**\n",
    "   - Never run queries with `DROP`, `DELETE`, `TRUNCATE` without double-checking\n",
    "   - Be wary of `UPDATE` statements without proper `WHERE` clauses\n",
    "\n",
    "2. 🔍 **Validate the Logic**\n",
    "   - Are the date ranges correct?\n",
    "   - Do the JOIN conditions make sense?\n",
    "   - Will this query return way too much data?\n",
    "\n",
    "3. 🫸 **Test on Development First**\n",
    "   - Run new queries on test data before production\n",
    "   - Add `LIMIT 10` to test the output structure\n",
    "\n",
    "4. 📉 **Watch for Performance Killers**\n",
    "   - Missing WHERE clauses on large tables\n",
    "   - Unnecessary nested subqueries\n",
    "   - DISTINCT on large result sets\n",
    "\n",
    "### Pro Tips for AI-Assisted SQL 🚀\n",
    "\n",
    "**Iterative Refinement**\n",
    "Don't expect perfection on the first try. Start simple, then add complexity:\n",
    "1. Get the basic query working\n",
    "2. Add filters and conditions\n",
    "3. Optimize for performance\n",
    "\n",
    "**Learn from the AI**\n",
    "When the AI generates a query, ask it to:\n",
    "- Explain each part of the query\n",
    "- Suggest performance improvements\n",
    "- Show alternative approaches\n",
    "\n",
    "**Build Your Prompt Library**\n",
    "Save successful prompts as templates, on a Sharepoint, Notes, wherever you can find and share them ! :\n",
    "```\n",
    "\"[STANDARD SCHEMA HERE]\n",
    "Task: [Monthly sales report / Customer segmentation / Inventory analysis]\n",
    "Constraints: [Date range / Specific regions / Minimum thresholds]\n",
    "Output: [Required columns and format]\"\n",
    "```\n",
    "\n",
    "### Common Pitfalls to Avoid with AI 🤖⚠️\n",
    "\n",
    "1. **The Schema Assumption**\n",
    "   AI might assume column names or relationships. Always verify against your actual schema.\n",
    "\n",
    "2. **The Timezone Trap**\n",
    "   Be explicit about timezones when dealing with dates: \"Using UTC timestamps...\".. This one is painful, make sure you double check !\n",
    "\n",
    "3. **The NULL Surprise**\n",
    "   AI often forgets about NULL values. Explicitly mention how to handle them. Do not hesistate to feed your errors back into the LLM.\n",
    "\n",
    "4. **The Performance Blind Spot**\n",
    "   AI doesn't know your table sizes. Mention if you're dealing with millions of rows, and fingers crossed, it will optimize the query.\n",
    "\n",
    "👉 Remember: AI is your assistant, not your replacement. It speeds up query writing dramatically, but you're still the pilot. Always understand what the query does before hitting that execute button! It's hard telling your boss that the \"Magic robot\" deleted you production database🎮"
   ]
  },
  {
   "cell_type": "markdown",
   "id": "368e7644",
   "metadata": {},
   "source": [
    "\n",
    "---\n",
    "\n",
    "# Let's cross the Rubicon !\n",
    "\n",
    "Alright, let's get our hands dirty. Imagine we've just been hired as the new data analysts for a company called \"Northwind traders\". They are a small but ambitious company that imports and exports gourmet food products around the world.\n",
    "\n",
    "Our manager has given us our first big mission: Help the company boost its sales.\n",
    "\n",
    "That's a broad goal. Where do we even begin? As data people, our first instinct should be to look at the data we have. We need to understand the business before we can change it. Our main tool for this investigation will be SQL.\n",
    "\n",
    "Let's start by asking some basic questions.\n"
   ]
  },
  {
   "cell_type": "markdown",
   "id": "bdd2b2cb",
   "metadata": {},
   "source": [
    "Peeking into the data with select and limit\n",
    "Before we can think about sales, we need to know what we're actually selling. Our database has a table called Products that seems like a good place to start.\n",
    "\n",
    "Let's ask the database to show us everything in that table. The command for \"show me\" in SQL is select. If we want to see every column, we use the asterisk *, which is a wildcard for \"all\"."
   ]
  },
  {
   "cell_type": "code",
   "execution_count": null,
   "id": "dab907b1",
   "metadata": {
    "vscode": {
     "languageId": "sql"
    }
   },
   "outputs": [],
   "source": [
    "query_and_print(\"SELECT * from Products;\")"
   ]
  },
  {
   "cell_type": "markdown",
   "id": "15e5b2b1",
   "metadata": {
    "vscode": {
     "languageId": "sql"
    }
   },
   "source": [
    "Running this, you'll see a lot of data. Maybe too much. We don't need to see every single product right now, we just want to get a feel for the table's structure.\n",
    "\n",
    "To ask for just a sample, we can add a limit clause. This is useful for taking a quick peek without overwhelming our screen. Let's just look at the first 5 products. To do that, we will be using the clause \"LIMIT\"."
   ]
  },
  {
   "cell_type": "code",
   "execution_count": null,
   "id": "3afb5dfe",
   "metadata": {
    "vscode": {
     "languageId": "sql"
    }
   },
   "outputs": [],
   "source": [
    "query_and_print(\"SELECT * from Products LIMIT 5;\")"
   ]
  },
  {
   "cell_type": "markdown",
   "id": "ac109138",
   "metadata": {},
   "source": [
    "Much better. Now we can see the columns clearly: ProductID, ProductName, SupplierID, UnitPrice, etc.\n",
    "\n",
    "The * is handy, but most of the time we only care about a few specific columns. For our sales mission, the product name and its price are probably quite important. Let's select just those two columns."
   ]
  },
  {
   "cell_type": "code",
   "execution_count": null,
   "id": "fd2250f5",
   "metadata": {
    "vscode": {
     "languageId": "sql"
    }
   },
   "outputs": [],
   "source": [
    "query_and_print(\"select ProductName, UnitPrice from Products limit 5;\")"
   ]
  },
  {
   "cell_type": "markdown",
   "id": "a3c43059",
   "metadata": {},
   "source": [
    "Here we go. We've just used the most fundamental command in SQL.\n",
    "\n",
    "+ Select lets us choose the columns we want to see.\n",
    "+ From tells the database which table to look in.\n",
    "+ Limit restricts the number of rows returned."
   ]
  },
  {
   "cell_type": "markdown",
   "id": "b5017b91",
   "metadata": {},
   "source": [
    "## Finding what you need with where\n",
    "Looking at a random list of products is a start, but to make smart decisions, we need to ask more specific questions. For instance, a simple sales strategy could be to promote our high-value items.\n",
    "\n",
    "So, let's ask the database: \"Show me the products that are expensive\". We need to define \"expensive\". Let's say, for now, any product with a UnitPrice greater than 50.\n",
    "\n",
    "To filter our data based on a condition, we use the where clause. Think of it as adding an \"if\" to your request."
   ]
  },
  {
   "cell_type": "code",
   "execution_count": null,
   "id": "4b32b0f8",
   "metadata": {
    "vscode": {
     "languageId": "sql"
    }
   },
   "outputs": [],
   "source": [
    "query_and_print(\"select ProductName, UnitPrice from Products where UnitPrice > 50;\");"
   ]
  },
  {
   "cell_type": "markdown",
   "id": "6de0bc41",
   "metadata": {},
   "source": [
    "Now we have a list of our premium products. Notice we used the greater-than symbol >. You can use other familiar comparison operators too:\n",
    "\n",
    "+ = : equals\n",
    "+ < : less than\n",
    "+ >= : greater than or equal to\n",
    "+ <= : less than or equal to\n",
    "+ <> or != : not equal to\n",
    "\n",
    "👉 Let's try another one. What if we want to find information about a specific customer? Let's look at the Customers table and find all of our customers based in Germany. When we filter on text (also called a 'string'), we need to put the value in single quotes ' '."
   ]
  },
  {
   "cell_type": "code",
   "execution_count": null,
   "id": "1784f879",
   "metadata": {
    "vscode": {
     "languageId": "sql"
    }
   },
   "outputs": [],
   "source": [
    "query_and_print(\"select CompanyName, ContactName, City from Customers where Country = 'Germany';\");"
   ]
  },
  {
   "cell_type": "markdown",
   "id": "291f098e",
   "metadata": {},
   "source": [
    "## Combining conditions with and and or\n",
    "\n",
    "Our questions can get more complex. It's good that we found our expensive products, but what if an expensive product is out of stock? We can't sell it.\n",
    "\n",
    "Let's refine our previous query. We want products that are both expensive (UnitPrice > 50) and actually in stock (UnitsInStock > 0).\n",
    "\n",
    "To check for multiple conditions where all must be true, we use and."
   ]
  },
  {
   "cell_type": "code",
   "execution_count": null,
   "id": "0de16a34",
   "metadata": {
    "vscode": {
     "languageId": "sql"
    }
   },
   "outputs": [],
   "source": [
    "query_and_print(\"select ProductName, UnitPrice, UnitsInStock from Products where UnitPrice > 50 and UnitsInStock > 0;\");"
   ]
  },
  {
   "cell_type": "markdown",
   "id": "585679fc",
   "metadata": {},
   "source": [
    "This list is much more useful for a sales campaign.\n",
    "\n",
    "Now, let's consider a different strategy. Perhaps we want to run a marketing campaign in our key European markets, say Switzerland and France. We need a list of customers who are in Switzerland or in France.\n",
    "\n",
    "For this, we use the or operator. It will show a row if any of the conditions are met."
   ]
  },
  {
   "cell_type": "code",
   "execution_count": null,
   "id": "fbeb6651",
   "metadata": {
    "vscode": {
     "languageId": "sql"
    }
   },
   "outputs": [],
   "source": [
    "query_and_print(\"select CompanyName, Country from Customers where Country = 'Switzerland' or Country = 'France';\");"
   ]
  },
  {
   "cell_type": "markdown",
   "id": "a8fe5672",
   "metadata": {},
   "source": [
    "## Creating new information with calculations\n",
    "Let's look at the Order Details table. It seems to hold the key to our sales performance. It has OrderID, ProductID, UnitPrice, and Quantity.\n",
    "\n",
    "Wait a minute 💡. It shows the price of a single unit and how many units were sold, but it doesn't have a column for the total value of that line item. No problem, we can calculate it ourselves, directly in the select statement."
   ]
  },
  {
   "cell_type": "code",
   "execution_count": null,
   "id": "31431907",
   "metadata": {
    "vscode": {
     "languageId": "sql"
    }
   },
   "outputs": [],
   "source": [
    "# The 3 consecutive double quotes allow us to write a multi-line string in Python and to ignore quotes inside the string.\n",
    "query_and_print(\"\"\"select OrderID, ProductID, UnitPrice, Quantity, UnitPrice * Quantity\n",
    "from \"Order Details\" limit 10;\"\"\")"
   ]
  },
  {
   "cell_type": "markdown",
   "id": "c19c4947",
   "metadata": {},
   "source": [
    "\n",
    "---\n",
    "\n",
    "# Can't beat'em? JOIN'em!\n",
    "\n",
    "So, we've hit our first real data-wrangling challenge. We can see a ProductID in our list of valuable orders, but that's just a number. It doesn't tell our sales team whether the customer bought \"Chai\" or \"Chef Anton's Gumbo Mix\". \n",
    "\n",
    "That important piece of information, the product's name, lives in a completely different table, the Products table. This is intentional. \n",
    "\n",
    "**Databases are designed to be tidy** - instead of repeating the product name and description in every single order line, they just use a unique ID as a reference. It's like having a contact list with just phone numbers, and a separate address book. To find someone's address, you need to use their name to look them up in the other book. \n",
    "\n",
    "In SQL, this process of looking up and combining information from multiple tables is called a join. It's how we connect the dots using a shared piece of information—a \"key\" like ProductID—to build a more complete picture.\n",
    "\n"
   ]
  },
  {
   "cell_type": "markdown",
   "id": "082fbb74",
   "metadata": {},
   "source": [
    "### What are the types of join ?\n",
    "\n",
    "The *inner join* we've been using is the most common, but it's just one tool in the box. \n",
    "\n",
    "Think of it as finding the perfect overlap between two lists; it only shows you records that have a match in both tables. Sometimes, however, you need a different perspective. What if you want to see all your products, including the ones that have never been sold? For this, you would use a *left join*. 👉\n",
    "👉 A *left join* keeps every single record from the first (\"left\") table and pulls in the matching data from the second (\"right\") table. If there's no match, it simply leaves the space blank (with a special value called null). \n",
    "👉 A *right join* does the exact opposite, and a *full outer join* goes all in, keeping every record from both tables, whether they match or not. The type of join you choose all depends on the question you're asking: are you interested only in the matching data, or do you need to see the whole story, including what's missing?\n",
    "\n",
    "Here is a graphical representation of these concepts. Use that as a CheatSheet !"
   ]
  },
  {
   "cell_type": "markdown",
   "id": "417e0e38",
   "metadata": {},
   "source": [
    "![SQL Join Cheat sheet (source: reddit)](./images/sql-join-cheatsheet$.png)"
   ]
  },
  {
   "cell_type": "markdown",
   "id": "b0355ef3",
   "metadata": {},
   "source": [
    "## Finding our sales superstars with join\n",
    "\n",
    "\n",
    "Well ! It's that time of year at Northwind traders: bonus season. \n",
    "\n",
    "The management wants to reward the salespeople based on their performance, but to do that, we need to answer a critical question: Who are our top-performing employees in terms of total sales value?\n",
    "\n",
    "This is the most complex question we've faced yet, and it's impossible to answer by looking at just one table.\n",
    "\n",
    "💡 The employee's name is in the Employees table.\n",
    "💵 The value of each sale is in the \"Order Details\" table, which we have to calculate (UnitPrice * Quantity).\n",
    "🪢 The link between an employee and a sale is the Orders table, which connects an EmployeeID to an OrderID.\n",
    "To get our answer, we need to build a bridge across all three tables. This is a perfect job for join. We'll start with the most detailed information—the individual line items of each order—and add the other pieces of information one by one.\n",
    "\n",
    "Let's construct the query step-by-step:\n",
    "\n",
    "👉 First, we join \"Order Details\" (which has the money) and Orders (which has the EmployeeID).\n",
    " Then, we join that result with Employees to get the salesperson's name."
   ]
  },
  {
   "cell_type": "code",
   "execution_count": null,
   "id": "b66c4c26",
   "metadata": {
    "vscode": {
     "languageId": "sql"
    }
   },
   "outputs": [],
   "source": [
    "query_and_print(\"\"\"\n",
    "select\n",
    "  e.FirstName,\n",
    "  e.LastName,\n",
    "  od.OrderID,\n",
    "  (od.UnitPrice * od.Quantity) as LineTotal\n",
    "from \"Order Details\" as od\n",
    "inner join Orders as o on od.OrderID = o.OrderID\n",
    "inner join Employees as e on o.EmployeeID = e.EmployeeID;\n",
    "\"\"\")"
   ]
  },
  {
   "cell_type": "markdown",
   "id": "3ecb6bdf",
   "metadata": {},
   "source": [
    "It is a bit complex so let's break that down:\n",
    "\n",
    "👉 We start from \"Order Details\" (od) because it contains the UnitPrice and Quantity we need to calculate the value of each transaction.\n",
    "👉 We use an inner join to connect to the Orders table (o) using the shared OrderID. Now, for each line item, we know which employee made the sale via o.EmployeeID.\n",
    "👉 We use a second inner join to connect to the Employees table (e) using the shared EmployeeID. Now, instead of just an ID, we have their FirstName and LastName.\n",
    "\n",
    "When you run this, you get a long, detailed list. It shows every single product line from every single sale, right next to the name of the salesperson who secured it. For example, you can see all the sales made by \"Steven Buchanan\" or \"Michael Suyama\".\n",
    "\n",
    "\n",
    "But joins are not just for building massive queries. They are also the perfect tool for answering small, specific, everyday questions. For instance, imagine a colleague from human resources asks: \"Who is the direct manager for Steven Buchanan and Michael Suyama?\"\n",
    "\n",
    "The answer is right there in the Employees table, but getting it requires a join on the table itself—a self-join. We need to find the employees, then use their ReportsTo ID to look up their manager's name in the very same table.\n",
    "\n",
    "We use an inner join because we know they have managers. The key is to filter the employee list down to just the two people we care about."
   ]
  },
  {
   "cell_type": "code",
   "execution_count": null,
   "id": "0af1d7d4",
   "metadata": {
    "vscode": {
     "languageId": "sql"
    }
   },
   "outputs": [],
   "source": [
    "query_and_print(\"\"\"select\n",
    "  e.FirstName || ' ' || e.LastName as EmployeeName,\n",
    "  m.FirstName || ' ' || m.LastName as ManagerName\n",
    "from Employees as e\n",
    "inner join Employees as m on e.ReportsTo = m.EmployeeID\n",
    "where e.LastName in ('Buchanan', 'Suyama');\"\"\")"
   ]
  },
  {
   "cell_type": "markdown",
   "id": "d383736b",
   "metadata": {},
   "source": [
    "## A conclusion on our journey so far\n",
    "Let's pause and appreciate the ground we've covered. We started with a simple, practical goal: help Northwind traders boost sales. We didn't have to learn a hundred complex commands. Instead, with a handful of core tools, we transformed ourselves from passive observers into active investigators.\n",
    "\n",
    "+ We learned to peek at data with select and limit, and to ask for specific columns instead of everything.\n",
    "+ We used where, and, and or to filter the noise and focus on the data that mattered, like finding premium products or customers in key markets.\n",
    "+ We created new information on the fly by doing calculations directly in our queries.\n",
    "+ Most importantly, we learned to connect the dots with join. This was the key that unlocked the true power of our relational database, allowing us to build a complete picture from separate tables. We saw how to answer complex business questions, from finding our top sales performers to mapping out the company's internal reporting structure.\n",
    "You now possess the foundational syntax to query almost any relational database. You understand the logic of asking for what you want, filtering it down, and connecting it to related information.\n"
   ]
  },
  {
   "cell_type": "markdown",
   "id": "0567d382",
   "metadata": {},
   "source": [
    "### 👉 Digging deeper: The next steps in your SQL adventure\n",
    "We left our bonus-season query at a crucial point. We have a long list of every sale transaction next to the employee who made it, but it's not the final answer. The immediate next step in your SQL journey is to learn about aggregation. These are functions that summarise or group your data. You would use:\n",
    "\n",
    "+ group by to tell the database to bundle rows together (e.g., group all sales by employee).\n",
    "+ sum() to add up values (e.g., sum(LineTotal) to get the total sales value for that group).\n",
    "+ count() to count the number of rows (e.g., how many orders a customer has placed).\n",
    "+ avg(), min(), and max() to find the average, minimum, and maximum values in a group.\n",
    "\n",
    "Using these aggregation functions will allow you to turn that long list of sales into a concise leaderboard, finally answering the \"who gets the bonus\" question. Beyond aggregation, you can explore more advanced SQL concepts like window functions (for complex rankings and comparisons) and common table expressions or CTEs (for making long queries more readable).\n",
    "\n",
    "#### The leap to data engineering: What to expect in a company\n",
    "The clean, tidy Northwind database in our Jupyter notebook is a perfect learning environment. A real company environment is a bit different, but the skills you've learned are the bedrock you'll build upon.\n",
    "\n",
    "👉 The tools will be bigger: Instead of a single SQLite file, you will likely work with a cloud data warehouse. Tools like Snowflake, Amazon Redshift, or Google BigQuery are designed to handle enormous amounts of data—terabytes or even petabytes. The good news is that they all speak SQL. The syntax you've learned is 95% transferable. These systems are powerful because they separate the cost of storing data from the cost of querying it, allowing companies to store everything and analyse it on demand.\n",
    "\n",
    "👉The data will be messy: The Northwind database is like a perfectly curated garden. Real-world data is often more like a wild jungle. You should expect to find:\n",
    "\n",
    "+ Lots of null values: Missing information is a fact of life.\n",
    "+ Inconsistent data: You might find the same country listed as 'USA', 'US', and 'United States' in the same column.\n",
    "+ Incorrect data types: Numbers stored as text, dates in strange formats.\n",
    "+ Duplicate records: The same order or customer entered twice.\n",
    "A huge part of a data engineer's job is not just querying data, but cleaning and transforming it so that it becomes reliable and useful. This process is often called ETL (Extract, Transform, Load)."
   ]
  },
  {
   "cell_type": "markdown",
   "id": "9e3beb98",
   "metadata": {},
   "source": [
    "### Your Learning Roadmap 🗺️\n",
    "\n",
    "For foundational skills, \"SQL for Data Analysis\" on Udacity stands out with its focus on analytical patterns and real datasets from tech companies. If you prefer interactive learning, DataCamp's \"The Complete SQL Bootcamp\" offers hands-on exercises with immediate feedback. \n",
    "\n",
    "🇨🇭 In the Swiss job market, certain certifications carry real weight. The Snowflake SnowPro Core certification is particularly valued, as many Swiss companies use Snowflake for their data warehousing. Google Cloud's Professional Data Engineer certification is comprehensive and well-recognized across European markets. For those starting out, Microsoft's Azure Data Fundamentals provides a solid foundation and pairs well with Power BI skills that many Swiss businesses use. \n",
    "\n",
    "Look at your activities, company tools, and folllow what makes the most sense ! There is not only one answer to this question.\n",
    "\n",
    "💡Something to not put aside in data are soft skills - They matter just as much. The ability to translate a vague business question into a precise SQL query is pure gold. You'll spend significant time explaining your findings to non-technical stakeholders and documenting your work so others can understand and maintain it.\n",
    "\n"
   ]
  },
  {
   "cell_type": "markdown",
   "id": "29a12251",
   "metadata": {},
   "source": []
  }
 ],
 "metadata": {
  "kernelspec": {
   "display_name": "Python 3",
   "language": "python",
   "name": "python3"
  },
  "language_info": {
   "codemirror_mode": {
    "name": "ipython",
    "version": 3
   },
   "file_extension": ".py",
   "mimetype": "text/x-python",
   "name": "python",
   "nbconvert_exporter": "python",
   "pygments_lexer": "ipython3",
   "version": "3.12.1"
  }
 },
 "nbformat": 4,
 "nbformat_minor": 5
}
