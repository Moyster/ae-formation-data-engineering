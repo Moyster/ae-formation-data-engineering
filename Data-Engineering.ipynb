{
 "cells": [
  {
   "cell_type": "markdown",
   "id": "893459ec",
   "metadata": {},
   "source": [
    "# Introduction to Data Engineering: Bridging the gap between raw data and insights\n",
    "\n",
    "What we'll cover in this tutorial\n",
    "\n",
    "In this tutorial, we'll be using SQLite, a simple and easy-to-use database, to explore the fundamentals of data engineering and data preprocessing. We'll cover the following topics:\n",
    "+ Introduction to SQL: We'll learn the basics of SQL (Structured Query Language), the standard language for interacting with databases.\n",
    "+ Data Loading: We'll load the transformed data into a new table or file for further analysis.\n",
    "+ Data Extraction: We'll use SQL to extract data from our SQLite database.\n",
    "+ Data Transformation: We'll use SQL to clean, transform, and prepare the data for analysis. This will include handling missing values, inconsistent formatting, and duplicates.\n"
   ]
  },
  {
   "cell_type": "markdown",
   "id": "c92e3619",
   "metadata": {},
   "source": [
    "### Understanding SQL and Relational Databases\n",
    "\n",
    "Relational databases organize data into tables, which you can visualize as spreadsheets with rows and columns. Each table represents a specific type of entity or concept – imagine tables for \"Customers,\" \"Products,\" or \"Orders.\" \n",
    "To query these databases, we are using **SQL**, which is the standard language for interacting with relational databases. \n",
    "\n",
    "Rows (or Records): Each row in a table represents a single instance of that entity. For example, in the diagram below, in the \"Order\" table, each row would represent one specific order. We often refer to these as records.\n",
    "Columns (Attributes): Each column in a table represents a characteristic or attribute of that entity. In the \"Order\" table, columns might include \"UnitPrice,\" \"Quantity,\" and \"Discount.\" Each column has a specific data type (e.g., text, number, date).\n",
    "The power of relational databases lies in their ability to represent relationships between different entities. These relationships are created using keys:\n",
    "\n",
    "+ Primary Key: A unique identifier for each record within a table. For example, \"CustomerID\" in the \"Customers\" table would likely be a primary key, ensuring that each customer has a unique identifier.\n",
    "+ Foreign Key: A column in one table that refers to the primary key of another table. This establishes a link between the two tables. For example, an \"Orders\" table might have a \"CustomerID\" column that is a foreign key referencing the \"CustomerID\" (primary key) in the \"Customers\" table. This way, you know which customer placed each order.\n",
    "\n",
    "Tables are linked together through these keys, allowing you to perform complex queries that combine data from multiple tables. They can be linked using different types of relationships, such as one-to-one, one-to-many, or many-to-many.\n",
    "\n",
    "Below is a database schema diagram that illustrates these concepts:\n"
   ]
  },
  {
   "cell_type": "markdown",
   "id": "daca02fc",
   "metadata": {},
   "source": [
    "![Northwind Database Schema](./images/db-schema-northwind.svg)"
   ]
  },
  {
   "cell_type": "markdown",
   "id": "c2d58d2c",
   "metadata": {},
   "source": [
    "\n",
    "---\n",
    "\n",
    "#  We need to populate our database with some data !\n",
    "\n",
    "In this tutorial, we will be using the Northwind database, a sample database that contains data about a fictional company that imports and exports specialty foods. It includes tables for customers, orders, products, and more.\n",
    "The schema diagram above shows the relationships between the tables in the Northwind database.\n",
    "\n",
    "We've created for you a small script that will create the Northwind database and populate it with some sample data. To make things easy, we use SQLite, a lightweight database that is easy to set up and use, and offers a simple way to work with SQL databases without needing a separate server.\n",
    "In a real-world scenario, you would typically connect to a database server (like PostgreSQL, MySQL, Snowflake, etc...) and run SQL commands to create and populate your database. \n",
    "\n",
    "💡 **You don't really need to understand what's happening down there, you can just execute the code and move on to the next section.**"
   ]
  },
  {
   "cell_type": "code",
   "execution_count": null,
   "id": "d37c1b81",
   "metadata": {
    "vscode": {
     "languageId": "sql"
    }
   },
   "outputs": [],
   "source": [
    "#Import required libraries for data processing\n",
    "\n",
    "import urllib.request\n",
    "import os\n",
    "import sqlite3\n",
    "import pandas as pd  # added for dataframe operations"
   ]
  },
  {
   "cell_type": "code",
   "execution_count": null,
   "id": "1cd24bd6",
   "metadata": {
    "vscode": {
     "languageId": "sql"
    }
   },
   "outputs": [
    {
     "name": "stdout",
     "output_type": "stream",
     "text": [
      "Database already exists.\n"
     ]
    }
   ],
   "source": [
    "# Verifying if the database file exists, if not, download it. Instantiate the connection to the database.\n",
    "\n",
    "url = \"https://github.com/jpwhite3/northwind-SQLite3/raw/refs/heads/main/dist/northwind.db\"\n",
    "db_path = \"northwind.db\"\n",
    "\n",
    "if not os.path.exists(db_path):\n",
    "    print(\"Downloading the database...\")\n",
    "    urllib.request.urlretrieve(url, db_path)\n",
    "    print(\"Database downloaded successfully!\")\n",
    "else:\n",
    "    print(\"Database already exists.\")\n",
    "\n",
    "# Connexion à la base\n",
    "conn = sqlite3.connect(db_path)\n",
    "cursor = conn.cursor()\n"
   ]
  },
  {
   "cell_type": "code",
   "execution_count": null,
   "id": "b8fc984d",
   "metadata": {
    "vscode": {
     "languageId": "sql"
    }
   },
   "outputs": [],
   "source": [
    "def query_and_print(query):\n",
    "    \"\"\"\n",
    "    Execute a SQL query and print the results.\n",
    "    \"\"\"\n",
    "    cursor.execute(query)\n",
    "    results = cursor.fetchall()\n",
    "    \n",
    "    # Convert results to a DataFrame for better readability\n",
    "    df = pd.DataFrame(results, columns=[desc[0] for desc in cursor.description])\n",
    "    \n",
    "    print(df.to_string(index=False))\n",
    "    return df"
   ]
  },
  {
   "cell_type": "markdown",
   "id": "6ad22e27",
   "metadata": {},
   "source": [
    "\n",
    "---\n",
    "\n",
    "# Back to our SQL queries\n",
    "\n",
    "SQL is the standard language for talking to databases – the organized stores of information that power your business. Think of SQL as the tool that lets you ask questions of your data and get the answers you need to make better decisions. It's like having a direct line to your company's knowledge.\n",
    "\n",
    "Why is SQL Important for Business Professionals?\n",
    "\n",
    "SQL empowers you to:\n",
    "\n",
    "Get answers to critical business questions: Instead of relying solely on reports or technical teams, you can use SQL to directly query your data and answer questions like:\n",
    "+ What are my top-selling products this quarter?\n",
    "+ Which marketing campaigns are generating the most leads?\n",
    "+ What is the average order value for customers in a specific region?\n",
    "+ Who are my most valuable customers, and what are they buying?\n",
    "\n"
   ]
  },
  {
   "cell_type": "markdown",
   "id": "d6f7ee89",
   "metadata": {},
   "source": [
    "\n",
    "---\n",
    "\n",
    "# 🤖 SQL + AI: Smarter Queries, Safer Data\n",
    "\n",
    "AI speed up and simplify greatly the SQL query generation, but it requires a thoughtful approach, and a bit of practice to get the most out of it. Here are some tips to help you effectively use AI for SQL query generation:\n",
    "\n",
    "### 1. Prompt Engineering:\n",
    "\n",
    "Set the Stage: Begin by defining the context: \"As a database engineer using [Your Database System]...\" that will help the system understand the environment and constraints.\n",
    "This important for the query to have the proper syntax and to avoid errors.\n",
    "\n",
    "🫸 Schema as Context: Always provide the relevant database schema as text at the beginning of your prompt or discussion. Without it, the AI model cannot understand what data it is manipulating, and will NEVER give you \n",
    "\n",
    "### 2. Prompt Engineering:\n",
    "\n",
    "Clarity is Key: Articulate your needs precisely. Avoid ambiguity!\n",
    "Example Prompts:\n",
    "\"I want the products generating the most revenue between 2014 and 2018.\"\n",
    "\"I want the name and phone number of our lead customer with over $1 million in purchases.\"\n",
    "Critical Review:\n",
    "\n",
    "Always Validate the AI's Output!\n",
    "Watch Out For:\n",
    "+ Inaccurate dates or filters - That could get you wrong results and insights\n",
    "+ Destructive commands like DELETE or DROP TABLE - This can put in danger your whole database, and compromise the operations of others !\n",
    "\n",
    "---\n"
   ]
  },
  {
   "cell_type": "markdown",
   "id": "368e7644",
   "metadata": {},
   "source": [
    "\n",
    "---\n",
    "\n",
    "# Let's cross the Rubicon !\n",
    "\n",
    "Alright, let's get our hands dirty. Imagine we've just been hired as the new data analysts for a company called \"Northwind traders\". They are a small but ambitious company that imports and exports gourmet food products around the world.\n",
    "\n",
    "Our manager has given us our first big mission: Help the company boost its sales.\n",
    "\n",
    "That's a broad goal. Where do we even begin? As data people, our first instinct should be to look at the data we have. We need to understand the business before we can change it. Our main tool for this investigation will be SQL.\n",
    "\n",
    "Let's start by asking some basic questions.\n"
   ]
  },
  {
   "cell_type": "markdown",
   "id": "bdd2b2cb",
   "metadata": {},
   "source": [
    "Peeking into the data with select and limit\n",
    "Before we can think about sales, we need to know what we're actually selling. Our database has a table called Products that seems like a good place to start.\n",
    "\n",
    "Let's ask the database to show us everything in that table. The command for \"show me\" in SQL is select. If we want to see every column, we use the asterisk *, which is a wildcard for \"all\"."
   ]
  },
  {
   "cell_type": "code",
   "execution_count": null,
   "id": "dab907b1",
   "metadata": {
    "vscode": {
     "languageId": "sql"
    }
   },
   "outputs": [],
   "source": [
    "query_and_print(\"SELECT * from Products;\")"
   ]
  },
  {
   "cell_type": "markdown",
   "id": "15e5b2b1",
   "metadata": {
    "vscode": {
     "languageId": "sql"
    }
   },
   "source": [
    "Running this, you'll see a lot of data. Maybe too much. We don't need to see every single product right now, we just want to get a feel for the table's structure.\n",
    "\n",
    "To ask for just a sample, we can add a limit clause. This is useful for taking a quick peek without overwhelming our screen. Let's just look at the first 5 products. To do that, we will be using the clause \"LIMIT\"."
   ]
  },
  {
   "cell_type": "code",
   "execution_count": null,
   "id": "3afb5dfe",
   "metadata": {
    "vscode": {
     "languageId": "sql"
    }
   },
   "outputs": [],
   "source": [
    "query_and_print(\"SELECT * from Products LIMIT 5;\")"
   ]
  },
  {
   "cell_type": "markdown",
   "id": "ac109138",
   "metadata": {},
   "source": [
    "Much better. Now we can see the columns clearly: ProductID, ProductName, SupplierID, UnitPrice, etc.\n",
    "\n",
    "The * is handy, but most of the time we only care about a few specific columns. For our sales mission, the product name and its price are probably quite important. Let's select just those two columns."
   ]
  },
  {
   "cell_type": "code",
   "execution_count": null,
   "id": "fd2250f5",
   "metadata": {
    "vscode": {
     "languageId": "sql"
    }
   },
   "outputs": [],
   "source": [
    "query_and_print(\"select ProductName, UnitPrice from Products limit 5;\")"
   ]
  },
  {
   "cell_type": "markdown",
   "id": "a3c43059",
   "metadata": {},
   "source": [
    "Here we go. We've just used the most fundamental command in SQL.\n",
    "\n",
    "+ Select lets us choose the columns we want to see.\n",
    "+ From tells the database which table to look in.\n",
    "+ Limit restricts the number of rows returned."
   ]
  },
  {
   "cell_type": "markdown",
   "id": "b5017b91",
   "metadata": {},
   "source": [
    "### Finding what you need with where\n",
    "Looking at a random list of products is a start, but to make smart decisions, we need to ask more specific questions. For instance, a simple sales strategy could be to promote our high-value items.\n",
    "\n",
    "So, let's ask the database: \"Show me the products that are expensive\". We need to define \"expensive\". Let's say, for now, any product with a UnitPrice greater than 50.\n",
    "\n",
    "To filter our data based on a condition, we use the where clause. Think of it as adding an \"if\" to your request."
   ]
  },
  {
   "cell_type": "code",
   "execution_count": null,
   "id": "4b32b0f8",
   "metadata": {
    "vscode": {
     "languageId": "sql"
    }
   },
   "outputs": [],
   "source": [
    "query_and_print(\"select ProductName, UnitPrice\n",
    "from Products\n",
    "where UnitPrice > 50;\n",
    "\");"
   ]
  },
  {
   "cell_type": "markdown",
   "id": "6de0bc41",
   "metadata": {},
   "source": [
    "Now we have a list of our premium products. Notice we used the greater-than symbol >. You can use other familiar comparison operators too:\n",
    "\n",
    "+ = : equals\n",
    "+ < : less than\n",
    "+ >= : greater than or equal to\n",
    "+ <= : less than or equal to\n",
    "+ <> or != : not equal to\n",
    "\n",
    "👉 Let's try another one. What if we want to find information about a specific customer? Let's look at the Customers table and find all of our customers based in Germany. When we filter on text (also called a 'string'), we need to put the value in single quotes ' '."
   ]
  },
  {
   "cell_type": "code",
   "execution_count": null,
   "id": "1784f879",
   "metadata": {
    "vscode": {
     "languageId": "sql"
    }
   },
   "outputs": [],
   "source": [
    "query_and_print(\"select CompanyName, ContactName, City\n",
    "from Customers\n",
    "where Country = 'Germany';\n",
    "\");"
   ]
  },
  {
   "cell_type": "markdown",
   "id": "291f098e",
   "metadata": {},
   "source": [
    "#### Combining conditions with and and or\n",
    "\n",
    "Our questions can get more complex. It's good that we found our expensive products, but what if an expensive product is out of stock? We can't sell it.\n",
    "\n",
    "Let's refine our previous query. We want products that are both expensive (UnitPrice > 50) and actually in stock (UnitsInStock > 0).\n",
    "\n",
    "To check for multiple conditions where all must be true, we use and."
   ]
  },
  {
   "cell_type": "code",
   "execution_count": null,
   "id": "0de16a34",
   "metadata": {
    "vscode": {
     "languageId": "sql"
    }
   },
   "outputs": [],
   "source": [
    "query_and_print(\"select ProductName, UnitPrice, UnitsInStock\n",
    "from Products\n",
    "where UnitPrice > 50 and UnitsInStock > 0;\n",
    "\");"
   ]
  },
  {
   "cell_type": "markdown",
   "id": "585679fc",
   "metadata": {},
   "source": [
    "This list is much more useful for a sales campaign.\n",
    "\n",
    "Now, let's consider a different strategy. Perhaps we want to run a marketing campaign in our key European markets, say Germany and France. We need a list of customers who are in Germany or in France.\n",
    "\n",
    "For this, we use the or operator. It will show a row if any of the conditions are met."
   ]
  },
  {
   "cell_type": "code",
   "execution_count": null,
   "metadata": {
    "vscode": {
     "languageId": "sql"
    }
   },
   "outputs": [],
   "source": [
    "query_and_print(\"select CompanyName, Country\n",
    "from Customers\n",
    "where Country = 'Germany' or Country = 'France';\n",
    "\")"
   ]
  },
  {
   "cell_type": "markdown",
   "id": "a8fe5672",
   "metadata": {},
   "source": [
    "### Creating new information with calculations\n",
    "Let's look at the Order Details table. It seems to hold the key to our sales performance. It has OrderID, ProductID, UnitPrice, and Quantity.\n",
    "\n",
    "Wait a minute. It shows the price of a single unit and how many units were sold, but it doesn't have a column for the total value of that line item. No problem, we can calculate it ourselves, directly in the select statement."
   ]
  }
 ],
 "metadata": {
  "kernelspec": {
   "display_name": "Python 3",
   "language": "python",
   "name": "python3"
  },
  "language_info": {
   "codemirror_mode": {
    "name": "ipython",
    "version": 3
   },
   "file_extension": ".py",
   "mimetype": "text/x-python",
   "name": "python",
   "nbconvert_exporter": "python",
   "pygments_lexer": "ipython3",
   "version": "3.12.1"
  }
 },
 "nbformat": 4,
 "nbformat_minor": 5
}
