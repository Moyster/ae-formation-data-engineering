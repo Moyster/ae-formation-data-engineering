{
 "cells": [
  {
   "cell_type": "markdown",
   "id": "893459ec",
   "metadata": {},
   "source": [
    "# Introduction to Data Engineering: Bridging the gap between raw data and insights\n",
    "\n",
    "What we'll cover in this tutorial\n",
    "\n",
    "In this tutorial, we'll be using SQLite, a simple and easy-to-use database, to explore the fundamentals of data engineering and data preprocessing. We'll cover the following topics:\n",
    "+ Introduction to SQL: We'll learn the basics of SQL (Structured Query Language), the standard language for interacting with databases.\n",
    "+ Data Loading: We'll load the transformed data into a new table or file for further analysis.\n",
    "+ Data Extraction: We'll use SQL to extract data from our SQLite database.\n",
    "+ Data Transformation: We'll use SQL to clean, transform, and prepare the data for analysis. This will include handling missing values, inconsistent formatting, and duplicates.\n"
   ]
  },
  {
   "cell_type": "markdown",
   "id": "c92e3619",
   "metadata": {},
   "source": [
    "### Understanding SQL and Relational Databases\n",
    "\n",
    "Relational databases organize data into tables, which you can visualize as spreadsheets with rows and columns. Each table represents a specific type of entity or concept – imagine tables for \"Customers,\" \"Products,\" or \"Orders.\" \n",
    "To query these databases, we are using **SQL**, which is the standard language for interacting with relational databases. \n",
    "\n",
    "Rows (or Records): Each row in a table represents a single instance of that entity. For example, in the diagram below, in the \"Order\" table, each row would represent one specific order. We often refer to these as records.\n",
    "Columns (Attributes): Each column in a table represents a characteristic or attribute of that entity. In the \"Order\" table, columns might include \"UnitPrice,\" \"Quantity,\" and \"Discount.\" Each column has a specific data type (e.g., text, number, date).\n",
    "The power of relational databases lies in their ability to represent relationships between different entities. These relationships are created using keys:\n",
    "\n",
    "+ Primary Key: A unique identifier for each record within a table. For example, \"CustomerID\" in the \"Customers\" table would likely be a primary key, ensuring that each customer has a unique identifier.\n",
    "+ Foreign Key: A column in one table that refers to the primary key of another table. This establishes a link between the two tables. For example, an \"Orders\" table might have a \"CustomerID\" column that is a foreign key referencing the \"CustomerID\" (primary key) in the \"Customers\" table. This way, you know which customer placed each order.\n",
    "\n",
    "Tables are linked together through these keys, allowing you to perform complex queries that combine data from multiple tables. They can be linked using different types of relationships, such as one-to-one, one-to-many, or many-to-many.\n",
    "\n",
    "Below is a database schema diagram that illustrates these concepts:\n"
   ]
  },
  {
   "cell_type": "markdown",
   "id": "daca02fc",
   "metadata": {},
   "source": [
    "![Northwind Database Schema](./images/db-schema-northwind.svg)"
   ]
  },
  {
   "cell_type": "markdown",
   "id": "c2d58d2c",
   "metadata": {},
   "source": [
    "# Let's populate our database with some data !\n",
    "\n",
    "In this tutorial, we will be using the Northwind database, a sample database that contains data about a fictional company that imports and exports specialty foods. It includes tables for customers, orders, products, and more.\n",
    "The schema diagram above shows the relationships between the tables in the Northwind database.\n",
    "\n",
    "We've created for you a small script that will create the Northwind database and populate it with some sample data. To make things easy, we use SQLite, a lightweight database that is easy to set up and use, and offers a simple way to work with SQL databases without needing a separate server.\n",
    "In a real-world scenario, you would typically connect to a database server (like PostgreSQL, MySQL, Snowflake, etc...) and run SQL commands to create and populate your database. \n"
   ]
  },
  {
   "cell_type": "code",
   "execution_count": 27,
   "id": "d37c1b81",
   "metadata": {
    "vscode": {
     "languageId": "sql"
    }
   },
   "outputs": [],
   "source": [
    "import urllib.request\n",
    "import os\n",
    "import sqlite3\n",
    "import pandas as pd  # added for dataframe operations"
   ]
  },
  {
   "cell_type": "code",
   "execution_count": 28,
   "id": "1cd24bd6",
   "metadata": {
    "vscode": {
     "languageId": "sql"
    }
   },
   "outputs": [
    {
     "name": "stdout",
     "output_type": "stream",
     "text": [
      "Database already exists.\n"
     ]
    }
   ],
   "source": [
    "url = \"https://github.com/jpwhite3/northwind-SQLite3/raw/refs/heads/main/dist/northwind.db\"\n",
    "db_path = \"northwind.db\"\n",
    "\n",
    "if not os.path.exists(db_path):\n",
    "    print(\"Downloading the database...\")\n",
    "    urllib.request.urlretrieve(url, db_path)\n",
    "    print(\"Database downloaded successfully!\")\n",
    "else:\n",
    "    print(\"Database already exists.\")\n",
    "\n",
    "# Connexion à la base\n",
    "conn = sqlite3.connect(db_path)\n",
    "cursor = conn.cursor()\n"
   ]
  },
  {
   "cell_type": "markdown",
   "id": "6ad22e27",
   "metadata": {},
   "source": [
    "# Concepts de base de l’ingénierie des données avec SQL\n",
    "\n",
    "Dans cette section, vous allez découvrir les opérations fondamentales sur une base de données relationnelle :\n",
    "\n",
    "- **SELECT** : extraire des données d’une ou plusieurs tables\n",
    "- **UPDATE** : modifier des données existantes\n",
    "- **Jointures (JOIN)** : combiner des données provenant de plusieurs tables\n",
    "- **Renommer des colonnes** dans les résultats\n",
    "\n",
    "Nous utiliserons la base Northwind, un exemple classique de base de données de gestion commerciale (clients, commandes, produits, etc.).\n",
    "\n",
    "Vous pourrez ainsi vous entraîner à écrire et exécuter des requêtes SQL sur un cas réel."
   ]
  },
  {
   "cell_type": "code",
   "execution_count": 7,
   "id": "635e727f",
   "metadata": {
    "vscode": {
     "languageId": "sql"
    }
   },
   "outputs": [
    {
     "name": "stdout",
     "output_type": "stream",
     "text": [
      "First 5 Customers:\n",
      "('ALFKI', 'Alfreds Futterkiste', 'Maria Anders', 'Sales Representative', 'Obere Str. 57', 'Berlin', 'Western Europe', '12209', 'Germany', '030-0074321', '030-0076545')\n",
      "('ANATR', 'Ana Trujillo Emparedados y helados', 'Ana Trujillo', 'Owner', 'Avda. de la Constitución 2222', 'México D.F.', 'Central America', '05021', 'Mexico', '(5) 555-4729', '(5) 555-3745')\n",
      "('ANTON', 'Antonio Moreno Taquería', 'Antonio Moreno', 'Owner', 'Mataderos  2312', 'México D.F.', 'Central America', '05023', 'Mexico', '(5) 555-3932', None)\n",
      "('AROUT', 'Around the Horn', 'Thomas Hardy', 'Sales Representative', '120 Hanover Sq.', 'London', 'British Isles', 'WA1 1DP', 'UK', '(171) 555-7788', '(171) 555-6750')\n",
      "('BERGS', 'Berglunds snabbköp', 'Christina Berglund', 'Order Administrator', 'Berguvsvägen  8', 'Luleå', 'Northern Europe', 'S-958 22', 'Sweden', '0921-12 34 65', '0921-12 34 67')\n",
      "  CustomerID                         CompanyName         ContactName  \\\n",
      "0      ALFKI                 Alfreds Futterkiste        Maria Anders   \n",
      "1      ANATR  Ana Trujillo Emparedados y helados        Ana Trujillo   \n",
      "2      ANTON             Antonio Moreno Taquería      Antonio Moreno   \n",
      "3      AROUT                     Around the Horn        Thomas Hardy   \n",
      "4      BERGS                  Berglunds snabbköp  Christina Berglund   \n",
      "\n",
      "           ContactTitle                        Address         City  \\\n",
      "0  Sales Representative                  Obere Str. 57       Berlin   \n",
      "1                 Owner  Avda. de la Constitución 2222  México D.F.   \n",
      "2                 Owner                Mataderos  2312  México D.F.   \n",
      "3  Sales Representative                120 Hanover Sq.       London   \n",
      "4   Order Administrator                Berguvsvägen  8        Luleå   \n",
      "\n",
      "            Region PostalCode  Country           Phone             Fax  \n",
      "0   Western Europe      12209  Germany     030-0074321     030-0076545  \n",
      "1  Central America      05021   Mexico    (5) 555-4729    (5) 555-3745  \n",
      "2  Central America      05023   Mexico    (5) 555-3932            None  \n",
      "3    British Isles    WA1 1DP       UK  (171) 555-7788  (171) 555-6750  \n",
      "4  Northern Europe   S-958 22   Sweden   0921-12 34 65   0921-12 34 67  \n",
      "\n",
      "First 5 Customer IDs and Company Names:\n",
      "('ALFKI', 'Alfreds Futterkiste')\n",
      "('ANATR', 'Ana Trujillo Emparedados y helados')\n",
      "('ANTON', 'Antonio Moreno Taquería')\n",
      "('AROUT', 'Around the Horn')\n",
      "('BERGS', 'Berglunds snabbköp')\n",
      "\n",
      "Customers from Germany:\n",
      "('ALFKI', 'Alfreds Futterkiste', 'Maria Anders', 'Sales Representative', 'Obere Str. 57', 'Berlin', 'Western Europe', '12209', 'Germany', '030-0074321', '030-0076545')\n",
      "('BLAUS', 'Blauer See Delikatessen', 'Hanna Moos', 'Sales Representative', 'Forsterstr. 57', 'Mannheim', 'Western Europe', '68306', 'Germany', '0621-08460', '0621-08924')\n",
      "('DRACD', 'Drachenblut Delikatessen', 'Sven Ottlieb', 'Order Administrator', 'Walserweg 21', 'Aachen', 'Western Europe', '52066', 'Germany', '0241-039123', '0241-059428')\n",
      "('FRANK', 'Frankenversand', 'Peter Franken', 'Marketing Manager', 'Berliner Platz 43', 'München', 'Western Europe', '80805', 'Germany', '089-0877310', '089-0877451')\n",
      "('KOENE', 'Königlich Essen', 'Philip Cramer', 'Sales Associate', 'Maubelstr. 90', 'Brandenburg', 'Western Europe', '14776', 'Germany', '0555-09876', None)\n",
      "('LEHMS', 'Lehmanns Marktstand', 'Renate Messner', 'Sales Representative', 'Magazinweg 7', 'Frankfurt a.M.', 'Western Europe', '60528', 'Germany', '069-0245984', '069-0245874')\n",
      "('MORGK', 'Morgenstern Gesundkost', 'Alexander Feuer', 'Marketing Assistant', 'Heerstr. 22', 'Leipzig', 'Western Europe', '04179', 'Germany', '0342-023176', None)\n",
      "('OTTIK', 'Ottilies Käseladen', 'Henriette Pfalzheim', 'Owner', 'Mehrheimerstr. 369', 'Köln', 'Western Europe', '50739', 'Germany', '0221-0644327', '0221-0765721')\n",
      "('QUICK', 'QUICK-Stop', 'Horst Kloss', 'Accounting Manager', 'Taucherstraße 10', 'Cunewalde', 'Western Europe', '01307', 'Germany', '0372-035188', None)\n",
      "('TOMSP', 'Toms Spezialitäten', 'Karin Josephs', 'Marketing Manager', 'Luisenstr. 48', 'Münster', 'Western Europe', '44087', 'Germany', '0251-031259', '0251-035695')\n",
      "('WANDK', 'Die Wandernde Kuh', 'Rita Müller', 'Sales Representative', 'Adenauerallee 900', 'Stuttgart', 'Western Europe', '70563', 'Germany', '0711-020361', '0711-035428')\n",
      "\n",
      "ContactTitle updated for ALFKI.\n",
      "('ALFKI', 'Sales Manager')\n",
      "Column renamed successfully\n",
      "('ALFKI', 'Sales Manager')\n",
      "\n",
      "Example JOIN (Orders and Customers):\n",
      "(10248, 'Vins et alcools Chevalier', '2016-07-04')\n",
      "(10249, 'Toms Spezialitäten', '2016-07-05')\n",
      "(10250, 'Hanari Carnes', '2016-07-08')\n",
      "(10251, 'Victuailles en stock', '2016-07-08')\n",
      "(10252, 'Suprêmes délices', '2016-07-09')\n"
     ]
    }
   ],
   "source": [
    "# Select all columns from the 'Customers' table\n",
    "cursor.execute(\"SELECT * FROM Customers;\")\n",
    "customers = cursor.fetchall()\n",
    "print(\"First 5 Customers:\")\n",
    "for row in customers[:5]:  # Print only the first 5 rows\n",
    "    print(row)\n",
    "\n",
    "# Use pandas to display the data\n",
    "df = pd.read_sql_query(\"SELECT * FROM Customers\", conn)\n",
    "print(df.head())\n",
    "\n",
    "# Select specific columns (CustomerID, CompanyName)\n",
    "cursor.execute(\"SELECT CustomerID, CompanyName FROM Customers;\")\n",
    "customer_ids = cursor.fetchall()\n",
    "print(\"\\nFirst 5 Customer IDs and Company Names:\")\n",
    "for row in customer_ids[:5]:\n",
    "    print(row)\n",
    "\n",
    "# Using WHERE clause (e.g., customers from 'Germany')\n",
    "cursor.execute(\"SELECT * FROM Customers WHERE Country = 'Germany';\")\n",
    "german_customers = cursor.fetchall()\n",
    "print(\"\\nCustomers from Germany:\")\n",
    "for row in german_customers:\n",
    "    print(row)\n",
    "\n",
    "# Using UPDATE (Careful with UPDATE statements! Always use WHERE to limit the scope)\n",
    "# Let's update the ContactTitle for a specific customer (e.g., CustomerID = 'ALFKI')\n",
    "# This is for demonstration, be very cautious when using UPDATE\n",
    "try:\n",
    "    cursor.execute(\"UPDATE Customers SET ContactTitle = 'Sales Manager' WHERE CustomerID = 'ALFKI';\")\n",
    "    conn.commit() # Save the changes\n",
    "    print(\"\\nContactTitle updated for ALFKI.\")\n",
    "except sqlite3.Error as e:\n",
    "    print(f\"An error occurred: {e}\")\n",
    "\n",
    "# verify update\n",
    "cursor.execute(\"SELECT CustomerID, ContactTitle FROM Customers WHERE CustomerID = 'ALFKI'\")\n",
    "updated_record = cursor.fetchone()\n",
    "print(updated_record)\n",
    "\n",
    "# Example using ALTER TABLE (renaming a column) - Be CAREFUL with altering tables in production.\n",
    "# Rename ContactTitle to Title.\n",
    "try:\n",
    "    cursor.execute(\"ALTER TABLE Customers RENAME COLUMN ContactTitle TO Title\")\n",
    "    conn.commit()\n",
    "    print(\"Column renamed successfully\")\n",
    "except sqlite3.Error as e:\n",
    "    print(f\"An error occurred: {e}\")\n",
    "\n",
    "# Verify the change (you'll get an error if you try to select from ContactTitle now)\n",
    "cursor.execute(\"SELECT CustomerID, Title FROM Customers WHERE CustomerID = 'ALFKI'\")\n",
    "updated_record = cursor.fetchone()\n",
    "print(updated_record)\n",
    "\n",
    "\n",
    "# Example of a JOIN (Orders and Customers)\n",
    "\n",
    "sql_join_query = \"\"\"\n",
    "SELECT\n",
    "    Orders.OrderID,\n",
    "    Customers.CompanyName,\n",
    "    Orders.OrderDate\n",
    "FROM\n",
    "    Orders\n",
    "JOIN\n",
    "    Customers ON Orders.CustomerID = Customers.CustomerID\n",
    "LIMIT 5;\n",
    "\"\"\"\n",
    "\n",
    "cursor.execute(sql_join_query)\n",
    "\n",
    "join_results = cursor.fetchall()\n",
    "\n",
    "print(\"\\nExample JOIN (Orders and Customers):\")\n",
    "for row in join_results:\n",
    "  print(row)\n",
    "\n",
    "# Clean up connection\n",
    "conn.close()\n"
   ]
  }
 ],
 "metadata": {
  "kernelspec": {
   "display_name": "Python 3",
   "language": "python",
   "name": "python3"
  },
  "language_info": {
   "codemirror_mode": {
    "name": "ipython",
    "version": 3
   },
   "file_extension": ".py",
   "mimetype": "text/x-python",
   "name": "python",
   "nbconvert_exporter": "python",
   "pygments_lexer": "ipython3",
   "version": "3.12.1"
  }
 },
 "nbformat": 4,
 "nbformat_minor": 5
}
